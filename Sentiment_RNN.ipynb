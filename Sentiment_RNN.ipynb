{
 "cells": [
  {
   "cell_type": "markdown",
   "metadata": {},
   "source": [
    "# Sentiment Analysis with an RNN & Transfer Learning\n",
    "\n",
    "[情感分析](https://en.wikipedia.org/wiki/Sentiment_analysis)是指使用自然语言处理，文本分析，计算语言学和生物识别技术来系统地识别，提取，量化和研究情感状态和主观感受。情绪分析应用广泛，例如在线评论和市场调查反馈，社交媒体，互联网医疗保健服务，营销以及客户推荐系统。\n",
    "\n",
    "[自然语言处理](https://en.wikipedia.org/wiki/Natural_language_processing)（NLP）是机器学习技术重要应用范畴之一，有研究人员预测未来的人机交互的界面大部分将由能处理自然语言的智能产品替代， 它们能听懂人类的语言。目前已经有初具规模的应用雏形，例如手机上的智能语音助理如Siri，移动、联通的自动语音服务，具有理解、推理能力的[IBM Waston](http://www.ibm.com/watson/)，亚马逊的高级语音识别及自然语言理解功能的[Lex](https://aws.amazon.com/cn/lex/)，等等。\n",
    "\n",
    "​自然语言处理面临诸多挑战之一就是词、语句以及文章的表达。统计语言处理[ngram模型](http://blog.csdn.net/ahmanz/article/details/51273500) ，计算两个单词或者多个单词同时出现的概率，但是这些符号难以直接表示词与词之间的关联，也难以直接作为机器学习模型输入向量。对句子或者文章的表示[词袋子模型](http://www.cnblogs.com/platero/archive/2012/12/03/2800251.html)，即将段落或文章表示成一组单词，例如两个句子：”她喜欢猫猫.“、”他也喜欢猫猫.“ 我们可以构建一个词频字典：{\"她\": 1, \"他\": 1, \"喜欢\": 2 \"猫\": 4, \"也\": 1}。根据这个字典, 我们能将上述两句话重新表达为下述两个向量: [1, 0, 2，0]和[0, 1, 1, 2, 1]，每1维代表对应单词的频率。这些词向量可以作为机器学习模型的输入数值向量，但是它们依然难以表达关联性，而且当词库单词量庞大时，编码的维度十分巨大，给计算和存储带来不少问题。\n",
    "\n",
    "Mikolov、Socher等人提出了[Word2Vec](http://papers.nips.cc/paper/5021-distributed-representations-of-words-and-phrases-and-their-compositionality.pdf)、[GloVec](http://nlp.stanford.edu/pubs/glove.pdf)等词向量模型，能够比较好的解决这个问题，即用维数较少的向量表达词以及词之间的关联性。然而，这些用于学习词向量的方法仅考虑每个单词在独立的上下文表示。即没有很好的解决一个词在不同的上下文可能会有不同的含义。Peters等人提出的[ELMo](https://arxiv.org/pdf/1802.05365.pdf)就针对这个问题提出了“深度语境化词表示法”较好解决方案。他们认为单词的含义取决于上下文，它们的词向量也应考虑上下文。ELMo模型使用多层双向LSTM语言模型进行半监督学习来获取每个词向量时，将整个句子或段落都考虑在内。这使得ELMo模型在各种NLP任务中都有不错的性能的提高。Devlin等人提出的[BERT](https://arxiv.org/pdf/1810.04805.pdf)是目前深度学习的主要突破之一，在NLP中开发了有效的迁移学习方法。BERT(Deep Bidirectional Transformers)模型摒弃的LSTM层而是使用了Self-attention层。由于其强大的性能，BERT将会在未来几年继续成为NLP的主要方法。BERT的开发者提供了中文的预训练模型。为使用中文语言处理的开发者提供的很大的便利。\n",
    "\n",
    "这里，实现二个模型，一个单纯的LSTM模型， 一个基于BERT预训练模型为基础的迁移学习。对餐馆在线评论的数据集进行训练建模。"
   ]
  },
  {
   "cell_type": "markdown",
   "metadata": {},
   "source": [
    "---\n",
    "### Load in and visualize the data"
   ]
  },
  {
   "cell_type": "code",
   "execution_count": 1,
   "metadata": {},
   "outputs": [],
   "source": [
    "import warnings\n",
    "warnings.filterwarnings('ignore')\n",
    "from collections import Counter\n",
    "import numpy as np\n",
    "from pathlib import Path\n",
    "import pandas as pd\n",
    "import os\n",
    "import re\n",
    "import jieba\n",
    "from sklearn.model_selection import train_test_split\n",
    "from sklearn.metrics import classification_report, confusion_matrix"
   ]
  },
  {
   "cell_type": "code",
   "execution_count": 2,
   "metadata": {},
   "outputs": [
    {
     "name": "stdout",
     "output_type": "stream",
     "text": [
      "The total number of reviews: 2000\n"
     ]
    },
    {
     "data": {
      "text/html": [
       "<div>\n",
       "<style scoped>\n",
       "    .dataframe tbody tr th:only-of-type {\n",
       "        vertical-align: middle;\n",
       "    }\n",
       "\n",
       "    .dataframe tbody tr th {\n",
       "        vertical-align: top;\n",
       "    }\n",
       "\n",
       "    .dataframe thead th {\n",
       "        text-align: right;\n",
       "    }\n",
       "</style>\n",
       "<table border=\"1\" class=\"dataframe\">\n",
       "  <thead>\n",
       "    <tr style=\"text-align: right;\">\n",
       "      <th></th>\n",
       "      <th>comment</th>\n",
       "      <th>sentiment</th>\n",
       "    </tr>\n",
       "  </thead>\n",
       "  <tbody>\n",
       "    <tr>\n",
       "      <th>0</th>\n",
       "      <td>口味：不知道是我口高了，还是这家真不怎么样。 我感觉口味确实很一般很一般。上菜相当快，我敢说...</td>\n",
       "      <td>0</td>\n",
       "    </tr>\n",
       "    <tr>\n",
       "      <th>1</th>\n",
       "      <td>菜品丰富质量好，服务也不错！很喜欢！</td>\n",
       "      <td>1</td>\n",
       "    </tr>\n",
       "    <tr>\n",
       "      <th>2</th>\n",
       "      <td>说真的，不晓得有人排队的理由，香精香精香精香精，拜拜！</td>\n",
       "      <td>0</td>\n",
       "    </tr>\n",
       "    <tr>\n",
       "      <th>3</th>\n",
       "      <td>菜量实惠，上菜还算比较快，疙瘩汤喝出了秋日的暖意，烧茄子吃出了大阪烧的味道，想吃土豆片也是口...</td>\n",
       "      <td>1</td>\n",
       "    </tr>\n",
       "    <tr>\n",
       "      <th>4</th>\n",
       "      <td>先说我算是娜娜家风荷园开业就一直在这里吃 每次出去回来总想吃一回 有时觉得外面的西式简餐总是...</td>\n",
       "      <td>1</td>\n",
       "    </tr>\n",
       "  </tbody>\n",
       "</table>\n",
       "</div>"
      ],
      "text/plain": [
       "                                             comment  sentiment\n",
       "0  口味：不知道是我口高了，还是这家真不怎么样。 我感觉口味确实很一般很一般。上菜相当快，我敢说...          0\n",
       "1                                 菜品丰富质量好，服务也不错！很喜欢！          1\n",
       "2                        说真的，不晓得有人排队的理由，香精香精香精香精，拜拜！          0\n",
       "3  菜量实惠，上菜还算比较快，疙瘩汤喝出了秋日的暖意，烧茄子吃出了大阪烧的味道，想吃土豆片也是口...          1\n",
       "4  先说我算是娜娜家风荷园开业就一直在这里吃 每次出去回来总想吃一回 有时觉得外面的西式简餐总是...          1"
      ]
     },
     "execution_count": 2,
     "metadata": {},
     "output_type": "execute_result"
    }
   ],
   "source": [
    "# check the source dataframe\n",
    "\n",
    "df = pd.read_csv('./data/dianping.csv')\n",
    "print(\"The total number of reviews:\", df.shape[0])\n",
    "\n",
    "df.head()"
   ]
  },
  {
   "cell_type": "markdown",
   "metadata": {},
   "source": [
    "## 数据探索和数据预处理\n",
    "\n",
    "建立神经网络模型的第一步是将数据转换为适当的形式以输入网络。 由于使用的是嵌入层，因此需要使用整数对每个单词进行编码。 并且还需要对其进行清理。\n",
    "\n",
    "首先对于每个评论，\n",
    "1. 根据CJK统一表意文字(CJK Unified Ideographs)的Unicode块提取有效的汉字字符。\n",
    "2. 进行分词，使用结巴（https://github.com/fxsjy/jieba ）"
   ]
  },
  {
   "cell_type": "code",
   "execution_count": 3,
   "metadata": {},
   "outputs": [
    {
     "data": {
      "text/plain": [
       "comment      0\n",
       "sentiment    0\n",
       "dtype: int64"
      ]
     },
     "execution_count": 3,
     "metadata": {},
     "output_type": "execute_result"
    }
   ],
   "source": [
    "# is there any missing value\n",
    "\n",
    "df.isna().sum()"
   ]
  },
  {
   "cell_type": "code",
   "execution_count": 4,
   "metadata": {},
   "outputs": [
    {
     "name": "stdout",
     "output_type": "stream",
     "text": [
      "Postive reviews: 1000\n",
      "Negative reviews: 1000\n"
     ]
    }
   ],
   "source": [
    "# how many postive review and negative review\n",
    "\n",
    "print(f\"Postive reviews: {len(df[df['sentiment'] == 1])}\")\n",
    "print(f\"Negative reviews: {len(df[df['sentiment'] == 0])}\")"
   ]
  },
  {
   "cell_type": "code",
   "execution_count": 5,
   "metadata": {},
   "outputs": [
    {
     "name": "stdout",
     "output_type": "stream",
     "text": [
      "labels \t:\treviews\n",
      "\n",
      "1\t:\t今天第一次去还挺好的环境也很不错...\n",
      "1\t:\t菜不贵，排队的人很多。服务员误导，菜量很大还使劲让我们点，问他是不是有点多，他说三个人点十个菜的都有...\n",
      "1\t:\t口味还行 人太多 排队不开心 价格偏贵...\n",
      "0\t:\t环境确实不错，在大学城骑鹅公社内，靠窗的位置不多，味道真心不如白堤路凤荷园那家，价位比凤荷园贵，味道...\n",
      "0\t:\t真心不好吃 和北京吃的北京菜没法比 除了猪肝还过得去 别的实在难吃啊...\n",
      "0\t:\t真不知道五颗星哪来的 朋友之前来过 说还可以 然后味道是真的不行 烤肉什么的也不好吃 鱿鱼硬的嚼不动...\n"
     ]
    }
   ],
   "source": [
    "# what the review looks like\n",
    "\n",
    "def pretty_print(i):\n",
    "    print(str(df['sentiment'][i]) + \"\\t:\\t\" + df['comment'][i][:50] + \"...\")\n",
    "    \n",
    "print(\"labels \\t:\\treviews\\n\")\n",
    "pretty_print(211)\n",
    "pretty_print(128)\n",
    "pretty_print(62)\n",
    "pretty_print(341)\n",
    "pretty_print(597)\n",
    "pretty_print(498)"
   ]
  },
  {
   "cell_type": "code",
   "execution_count": 6,
   "metadata": {},
   "outputs": [
    {
     "name": "stderr",
     "output_type": "stream",
     "text": [
      "Building prefix dict from the default dictionary ...\n",
      "Dumping model to file cache /var/folders/7v/r6htqywj1psc66gmv2275kb40000gn/T/jieba.cache\n",
      "Loading model cost 0.838 seconds.\n",
      "Prefix dict has been built succesfully.\n"
     ]
    }
   ],
   "source": [
    "# define and initialize the 3-party libaray object - jieba (https://github.com/fxsjy/jieba)\n",
    "# https://en.wikipedia.org/wiki/CJK_Unified_Ideographs_(Unicode_block)\n",
    "\n",
    "jieba.initialize()\n",
    "REGEX = re.compile(r'[^\\u4e00-\\u9fa5aA-Za-z0-9]')"
   ]
  },
  {
   "cell_type": "code",
   "execution_count": 7,
   "metadata": {},
   "outputs": [],
   "source": [
    "# define tokenization function\n",
    "\n",
    "def tokenizer(sent):\n",
    "    '''\n",
    "    usint 3-party libary jieba to tokenize the text\n",
    "    '''\n",
    "    line = REGEX.sub(' ', sent)\n",
    "\n",
    "    return list(filter(lambda x: x.strip(), jieba.cut(line)))"
   ]
  },
  {
   "cell_type": "markdown",
   "metadata": {},
   "source": [
    "### 词编码\n",
    "\n",
    "对于网络的嵌入层输入，要求我们将每个评论转换成数值组形式。 最简单的方法是创建字典，将词汇表中的词映射为整数。 然后，我们可以将每个评论转换为整数数组，以便将其传递到网络中。"
   ]
  },
  {
   "cell_type": "code",
   "execution_count": 8,
   "metadata": {},
   "outputs": [],
   "source": [
    "# perform tokenization\n",
    "comments = df['comment'].to_list()\n",
    "\n",
    "new_comments = []\n",
    "for e in comments:\n",
    "    new_comments.append(tokenizer(e))\n",
    "\n",
    "# all review as tokens\n",
    "all_cn = []\n",
    "for sent in new_comments:\n",
    "    all_cn.extend([w for w in sent])\n",
    "\n",
    "# all token counts\n",
    "cnt = Counter(all_cn)\n",
    "\n",
    "# build vocabulary\n",
    "vocab = sorted(cnt, key=cnt.get, reverse=True)"
   ]
  },
  {
   "cell_type": "code",
   "execution_count": 9,
   "metadata": {},
   "outputs": [],
   "source": [
    "# test for first review\n",
    "\n",
    "# line = REGEX.sub(' ',comments[0])\n",
    "# print(line)\n",
    "# print(list(filter(lambda x: x.strip(), jieba.cut(line))))"
   ]
  },
  {
   "cell_type": "code",
   "execution_count": 10,
   "metadata": {},
   "outputs": [],
   "source": [
    "# 20 most frequent words\n",
    "\n",
    "vocab_20 = cnt.most_common(20)\n",
    "#vocab_20"
   ]
  },
  {
   "cell_type": "code",
   "execution_count": 11,
   "metadata": {},
   "outputs": [],
   "source": [
    "# postive reviews\n",
    "p_comments = df[df['sentiment'] == 1]['comment'].to_list()\n",
    "\n",
    "post_comments = []\n",
    "for e in p_comments:\n",
    "    post_comments.append(tokenizer(e))\n",
    "    \n",
    "post_cn = []\n",
    "for s in post_comments:\n",
    "    post_cn.extend([w for w in s])\n",
    "\n",
    "# all token counts\n",
    "post_cnt = Counter(post_cn)\n",
    "\n",
    "# 20 most common words in postive reviews\n",
    "post_20 = post_cnt.most_common(20)\n",
    "#post_20"
   ]
  },
  {
   "cell_type": "code",
   "execution_count": 12,
   "metadata": {},
   "outputs": [],
   "source": [
    "# negative review\n",
    "ng_comments = df[df['sentiment'] == 0]['comment'].to_list()\n",
    "\n",
    "neg_comments = []\n",
    "for e in ng_comments:\n",
    "    neg_comments.append(tokenizer(e))\n",
    "\n",
    "neg_cn = []\n",
    "for s in neg_comments:\n",
    "    neg_cn.extend([w for w in s])\n",
    "\n",
    "# all token counts\n",
    "neg_cnt = Counter(neg_cn)\n",
    "\n",
    "# 20 most common words in negative reviews\n",
    "neg_20 = neg_cnt.most_common(20)\n",
    "#neg_20"
   ]
  },
  {
   "cell_type": "markdown",
   "metadata": {},
   "source": [
    "可以看到，正面和负面评论中都经常出现诸如“的”之类的常用词。 我们真正想要的不是在正面或负面评论中找到最常见的词，而是在正面评论中比在负面评论中发现更多的词，反之亦然。 为此，计算正面和负面评论之间单词使用的*比例* 可能是比较好对特征。\n",
    "\n",
    "在对数取比率后，中性词将接近`0`，当词的比率趋近并高于`1`时，词将变得更正；当词的比率趋近并低于`-1`时，词将变得更负。"
   ]
  },
  {
   "cell_type": "code",
   "execution_count": 13,
   "metadata": {},
   "outputs": [],
   "source": [
    "pos_neg_ratios = Counter()\n",
    "\n",
    "# Calculate the ratios of positive and negative uses of the most common words\n",
    "# Consider words to be \"common\" if they've been used at least 100 times\n",
    "for term, c in list(cnt.most_common()):\n",
    "    if(c > 100):\n",
    "        pos_neg_ratio = post_cnt[term] / float(neg_cnt[term]+1)\n",
    "        pos_neg_ratios[term] = pos_neg_ratio"
   ]
  },
  {
   "cell_type": "code",
   "execution_count": 14,
   "metadata": {},
   "outputs": [
    {
     "name": "stdout",
     "output_type": "stream",
     "text": [
      "Pos-to-neg ratio for '的' = 0.8303972366148532\n",
      "Pos-to-neg ratio for '好吃' = 2.0386740331491713\n",
      "Pos-to-neg ratio for '失望' = 0.26744186046511625\n"
     ]
    }
   ],
   "source": [
    "print(\"Pos-to-neg ratio for '的' = {}\".format(pos_neg_ratios[\"的\"]))\n",
    "print(\"Pos-to-neg ratio for '好吃' = {}\".format(pos_neg_ratios[\"好吃\"]))\n",
    "print(\"Pos-to-neg ratio for '失望' = {}\".format(pos_neg_ratios[\"失望\"]))"
   ]
  },
  {
   "cell_type": "code",
   "execution_count": 15,
   "metadata": {},
   "outputs": [],
   "source": [
    "# Convert ratios to logs\n",
    "for word,ratio in pos_neg_ratios.most_common():\n",
    "    pos_neg_ratios[word] = np.log(ratio)"
   ]
  },
  {
   "cell_type": "code",
   "execution_count": 16,
   "metadata": {},
   "outputs": [
    {
     "name": "stdout",
     "output_type": "stream",
     "text": [
      "Pos-to-neg ratio for '的' = -0.1858510943519974\n",
      "Pos-to-neg ratio for '好吃' = 0.7122996127747014\n",
      "Pos-to-neg ratio for '难吃' = -3.6375861597263857\n"
     ]
    }
   ],
   "source": [
    "print(\"Pos-to-neg ratio for '的' = {}\".format(pos_neg_ratios[\"的\"]))\n",
    "print(\"Pos-to-neg ratio for '好吃' = {}\".format(pos_neg_ratios[\"好吃\"]))\n",
    "print(\"Pos-to-neg ratio for '难吃' = {}\".format(pos_neg_ratios[\"难吃\"]))"
   ]
  },
  {
   "cell_type": "code",
   "execution_count": 17,
   "metadata": {},
   "outputs": [],
   "source": [
    "import matplotlib as mpl\n",
    "import seaborn as sns\n",
    "import matplotlib.pyplot as plt\n",
    "\n",
    "mpl.rcParams.update({# Use mathtext, not LaTeX\n",
    "                            'text.usetex': False,\n",
    "                            # Use the Computer modern font\n",
    "                            'font.family': 'SimHei',\n",
    "                            'font.serif': 'cmr10',\n",
    "                            'mathtext.fontset': 'cm',\n",
    "                            # Use ASCII minus\n",
    "                            'axes.unicode_minus': False,\n",
    "                            })\n",
    "\n",
    "sns.set_style(\"darkgrid\",{\"font.sans-serif\":['simhei', 'Arial']})"
   ]
  },
  {
   "cell_type": "code",
   "execution_count": 18,
   "metadata": {},
   "outputs": [
    {
     "data": {
      "text/plain": [
       "Text(0.5, 1, '词(全部)的使用频率')"
      ]
     },
     "execution_count": 18,
     "metadata": {},
     "output_type": "execute_result"
    },
    {
     "data": {
      "image/png": "[encoded data removed]",
      "text/plain": [
       "<Figure size 504x360 with 1 Axes>"
      ]
     },
     "metadata": {
      "needs_background": "light"
     },
     "output_type": "display_data"
    }
   ],
   "source": [
    "f, ax = plt.subplots(1, 1, figsize=(7, 5), sharex=True)\n",
    "x1 = [vocab_20[i][0] for i in range(len(vocab_20))]\n",
    "y1 = [vocab_20[i][1] for i in range(len(vocab_20))]\n",
    "\n",
    "sns.barplot(x=x1, y=y1, palette=\"deep\", ax=ax,)\n",
    "ax.axhline(0, color=\"k\", clip_on=False)\n",
    "ax.set_ylabel(\"使用次数\")\n",
    "\n",
    "# Finalize the plot\n",
    "sns.despine(bottom=True)\n",
    "plt.setp(f.axes, yticks=[], )\n",
    "plt.tight_layout(h_pad=2)\n",
    "plt.title('词(全部)的使用频率')"
   ]
  },
  {
   "cell_type": "code",
   "execution_count": 19,
   "metadata": {},
   "outputs": [
    {
     "data": {
      "text/plain": [
       "Text(0.5, 1, '词(正向)的使用频率')"
      ]
     },
     "execution_count": 19,
     "metadata": {},
     "output_type": "execute_result"
    },
    {
     "data": {
      "image/png": "[encoded data removed]",
      "text/plain": [
       "<Figure size 504x360 with 1 Axes>"
      ]
     },
     "metadata": {
      "needs_background": "light"
     },
     "output_type": "display_data"
    }
   ],
   "source": [
    "f, ax = plt.subplots(1, 1, figsize=(7, 5), sharex=True)\n",
    "x2 = [post_20[i][0] for i in range(len(post_20))]\n",
    "y2 = [post_20[i][1] for i in range(len(post_20))]\n",
    "\n",
    "sns.barplot(x=x2, y=y2, palette=\"deep\", ax=ax,)\n",
    "ax.axhline(0, color=\"k\", clip_on=False)\n",
    "ax.set_ylabel(\"使用次数\")\n",
    "\n",
    "# Finalize the plot\n",
    "sns.despine(bottom=True)\n",
    "plt.setp(f.axes, yticks=[], )\n",
    "plt.tight_layout(h_pad=2)\n",
    "plt.title('词(正向)的使用频率')"
   ]
  },
  {
   "cell_type": "code",
   "execution_count": 20,
   "metadata": {},
   "outputs": [
    {
     "data": {
      "text/plain": [
       "Text(0.5, 1, '词(负向)的使用频率')"
      ]
     },
     "execution_count": 20,
     "metadata": {},
     "output_type": "execute_result"
    },
    {
     "data": {
      "image/png": "[encoded data removed]",
      "text/plain": [
       "<Figure size 504x360 with 1 Axes>"
      ]
     },
     "metadata": {
      "needs_background": "light"
     },
     "output_type": "display_data"
    }
   ],
   "source": [
    "f, ax = plt.subplots(1, 1, figsize=(7, 5), sharex=True)\n",
    "\n",
    "x3 = [neg_20[i][0] for i in range(len(neg_20))]\n",
    "y3 = [neg_20[i][1] for i in range(len(neg_20))]\n",
    "    \n",
    "sns.barplot(x=x3, y=y3, palette=\"deep\", ax=ax,)\n",
    "ax.axhline(0, color=\"k\", clip_on=False)\n",
    "ax.set_ylabel(\"使用次数\")\n",
    "\n",
    "# Finalize the plot\n",
    "sns.despine(bottom=True)\n",
    "plt.setp(f.axes, yticks=[], )\n",
    "plt.tight_layout(h_pad=2)\n",
    "plt.title('词(负向)的使用频率')"
   ]
  },
  {
   "cell_type": "code",
   "execution_count": 21,
   "metadata": {},
   "outputs": [
    {
     "data": {
      "text/plain": [
       "Text(0.5, 1.0, '正向，负向评论次数')"
      ]
     },
     "execution_count": 21,
     "metadata": {},
     "output_type": "execute_result"
    },
    {
     "data": {
      "image/png": "[encoded data removed]",
      "text/plain": [
       "<Figure size 432x288 with 1 Axes>"
      ]
     },
     "metadata": {
      "needs_background": "light"
     },
     "output_type": "display_data"
    }
   ],
   "source": [
    "#f, ax = plt.subplots(1, 1, figsize=(7, 5), sharex=True)\n",
    "\n",
    "    \n",
    "sns.distplot(df['sentiment'],kde = False)\n",
    "plt.title('正向，负向评论次数')"
   ]
  },
  {
   "cell_type": "code",
   "execution_count": 22,
   "metadata": {},
   "outputs": [
    {
     "name": "stdout",
     "output_type": "stream",
     "text": [
      "The minimum length of the reviews: 4\n",
      "The maximum length of the reviews: 535\n"
     ]
    },
    {
     "data": {
      "text/plain": [
       "Text(0.5, 1.0, '评论长度分布')"
      ]
     },
     "execution_count": 22,
     "metadata": {},
     "output_type": "execute_result"
    },
    {
     "data": {
      "image/png": "[encoded data removed]",
      "text/plain": [
       "<Figure size 504x360 with 1 Axes>"
      ]
     },
     "metadata": {
      "needs_background": "light"
     },
     "output_type": "display_data"
    }
   ],
   "source": [
    "comm_size = np.array([len(e) for e in new_comments])\n",
    "\n",
    "print(f\"The minimum length of the reviews: {comm_size.min()}\")\n",
    "print(f\"The maximum length of the reviews: {comm_size.max()}\")\n",
    "\n",
    "plt.figure(figsize=(7, 5))\n",
    "sns.distplot(comm_size, kde = False)\n",
    "plt.title('评论长度分布')"
   ]
  },
  {
   "cell_type": "code",
   "execution_count": 23,
   "metadata": {},
   "outputs": [
    {
     "data": {
      "image/png": "[encoded data removed]",
      "text/plain": [
       "<Figure size 432x288 with 1 Axes>"
      ]
     },
     "metadata": {
      "needs_background": "light"
     },
     "output_type": "display_data"
    }
   ],
   "source": [
    "# the box plot (or box-and-whisker plot) shows the distribution of review length\n",
    "\n",
    "ax = sns.boxplot(x=comm_size)"
   ]
  },
  {
   "cell_type": "code",
   "execution_count": 24,
   "metadata": {},
   "outputs": [
    {
     "name": "stdout",
     "output_type": "stream",
     "text": [
      "The size of vocabulary: 9523\n"
     ]
    }
   ],
   "source": [
    "# build a dictionary that maps words to integers\n",
    "\n",
    "vocab_to_int = {word: ii for ii, word in enumerate(vocab, 1)}\n",
    "print(f\"The size of vocabulary: {len(vocab_to_int)}\")"
   ]
  },
  {
   "cell_type": "code",
   "execution_count": 25,
   "metadata": {},
   "outputs": [],
   "source": [
    "# use the dict to tokenize each review in new_comments\n",
    "# store the tokenized reviews in reviews_ints\n",
    "\n",
    "reviews_ints = []\n",
    "for com in new_comments:\n",
    "    reviews_ints.append([vocab_to_int[word] for word in com])\n"
   ]
  },
  {
   "cell_type": "code",
   "execution_count": 26,
   "metadata": {},
   "outputs": [
    {
     "name": "stdout",
     "output_type": "stream",
     "text": [
      "Unique words:  9523\n",
      "\n",
      "Tokenized review: \n",
      " [[46, 8, 68, 3, 4401, 192, 2, 38, 96, 281, 573, 12, 45, 46, 354, 5, 32, 5, 32, 73, 551, 230, 4402, 19, 16, 7, 3, 240, 953, 1, 711, 7, 8, 451, 39, 474, 97, 845, 3103, 3103, 1, 67, 674, 4403, 1773, 1396, 36, 2042, 355, 373, 354, 13, 41, 1157, 244, 1774, 40, 32, 34, 2433, 15, 41, 6, 2434, 119, 32, 202, 119, 7, 120, 574, 21, 888, 2, 43, 5, 1158, 109, 8, 43, 505, 1261, 2043, 452, 14, 846, 43, 10, 389, 2, 4404, 1538, 4405, 3104, 12, 1011, 44, 1012, 198, 20, 1775, 551, 8, 4406, 33, 60, 149, 2435, 522, 4407, 847]]\n"
     ]
    }
   ],
   "source": [
    "# stats about vocabulary\n",
    "print('Unique words: ', len((vocab_to_int))) \n",
    "\n",
    "# print tokens in first review\n",
    "print('\\nTokenized review: \\n', reviews_ints[:1])"
   ]
  },
  {
   "cell_type": "code",
   "execution_count": 27,
   "metadata": {},
   "outputs": [
    {
     "data": {
      "text/plain": [
       "array([0, 1, 0, ..., 0, 1, 1])"
      ]
     },
     "execution_count": 27,
     "metadata": {},
     "output_type": "execute_result"
    }
   ],
   "source": [
    "# the labels\n",
    "\n",
    "encoded_labels = np.array(df['sentiment'].to_list())\n",
    "encoded_labels "
   ]
  },
  {
   "cell_type": "markdown",
   "metadata": {},
   "source": [
    "---\n",
    "## 填充输入数组\n",
    "\n",
    "为了处理简短的和非常长的评论，将对所有评论填充或截断为特定长度。 对于短于`seq_length`的评论将填充0。 对于长度超过`seq_length`的评论，可以将其截断为前`seq_length`个词。\n"
   ]
  },
  {
   "cell_type": "code",
   "execution_count": 28,
   "metadata": {},
   "outputs": [],
   "source": [
    "def pad_features(reviews_ints, seq_length):\n",
    "    '''     \n",
    "    INPUT \n",
    "    reviews_ints - numerised reviews\n",
    "    seq_length - sequence length\n",
    "    \n",
    "    OUTPUT \n",
    "    Return features of review_ints, where each review is padded with 0's \n",
    "        or truncated to the input seq_length.\n",
    "    '''\n",
    "    \n",
    "    features=[]\n",
    "    \n",
    "    for comm in reviews_ints:\n",
    "        if len(comm) <= seq_length:\n",
    "            features.append([0] * (seq_length - len(comm)) + comm)\n",
    "        else:\n",
    "            features.append(comm[:seq_length])\n",
    "    \n",
    "    return np.array(features)"
   ]
  },
  {
   "cell_type": "code",
   "execution_count": 29,
   "metadata": {},
   "outputs": [
    {
     "name": "stdout",
     "output_type": "stream",
     "text": [
      "[[  46    8   68    3 4401  192    2   38   96  281]\n",
      " [   0    0    0    0    0    0    0    0    0    0]\n",
      " [   0    0    0    0    0    0    0    0    0    0]\n",
      " [   0    0    0    0    0    0    0    0    0    0]\n",
      " [ 955   12  462  107 4413 1081  297   10  132   33]\n",
      " [   0    0    0    0    0    0    0    0    0    0]\n",
      " [   0    0    0    0    0    0    0    0    0    0]\n",
      " [   0    0    0    0    0    0    0    0    0    0]\n",
      " [ 714 2049    2  347   54 4426 4427  202   95 1776]\n",
      " [   0    0    0    0    0    0    0    0    0    0]\n",
      " [   0    0    0    0    0    0    0    0    0    0]\n",
      " [ 104   21    4 1268  888   54    2  236  375  716]\n",
      " [   0    0    0    0    0    0    0    0    0    0]\n",
      " [  28  104 1162    1   29   82  892 3126   66   34]\n",
      " [   0    0    0    0    0    0    0    0    0    0]\n",
      " [   0    0    0    0    0    0    0    0    0    0]\n",
      " [   0    0    0    0    0    0    0    0    0    0]\n",
      " [   0    0    0    0    0    0    0    0    0    0]\n",
      " [   0    0    0    0    0    0    0    0    0    0]\n",
      " [   0    0    0    0    0    0    0    0    0    0]\n",
      " [   0    0    0    0    0    0    0    0    0    0]\n",
      " [3130   14    1  107   80  132   27 2061   95  189]\n",
      " [   0    0    0    0    0    0    0    0    0    0]\n",
      " [   0    0    0    0    0    0    0    0    0    0]\n",
      " [   0    0    0    0    0    0    0    0    0    0]\n",
      " [   0    0    0    0    0    0    0    0    0    0]\n",
      " [ 609   33 2062 2073 4497   26  532 1172  302   16]\n",
      " [   0    0    0    0    0    0    0    0    0    0]\n",
      " [ 129  619   71   14    1 1806 2079   48   92   12]\n",
      " [   0    0    0    0    0    0    0    0    0    0]]\n"
     ]
    }
   ],
   "source": [
    "# test code\n",
    "\n",
    "seq_length = 100\n",
    "\n",
    "features = pad_features(reviews_ints, seq_length=seq_length)\n",
    "\n",
    "## test statements - do not change - ##\n",
    "assert len(features)==len(reviews_ints), \"Your features should have as many rows as reviews.\"\n",
    "assert len(features[0])==seq_length, \"Each feature row should contain seq_length values.\"\n",
    "\n",
    "# print first 10 values of the first 30 batches \n",
    "print(features[:30,:10])"
   ]
  },
  {
   "cell_type": "code",
   "execution_count": 30,
   "metadata": {},
   "outputs": [
    {
     "data": {
      "text/plain": [
       "(2000, 100)"
      ]
     },
     "execution_count": 30,
     "metadata": {},
     "output_type": "execute_result"
    }
   ],
   "source": [
    "features.shape"
   ]
  },
  {
   "cell_type": "markdown",
   "metadata": {},
   "source": [
    "## 训练，验证，测试集划分\n",
    "\n"
   ]
  },
  {
   "cell_type": "code",
   "execution_count": 31,
   "metadata": {},
   "outputs": [
    {
     "name": "stdout",
     "output_type": "stream",
     "text": [
      "\t\t\tFeature Shapes:\n",
      "Train set: \t\t(1600, 100) \n",
      "Validation set: \t(200, 100) \n",
      "Test set: \t\t(200, 100)\n"
     ]
    }
   ],
   "source": [
    "split_frac = 0.8\n",
    "\n",
    "# split data into training, validation, and test data (features and labels, x and y)\n",
    "\n",
    "split_idx = int(len(features)*0.8)\n",
    "train_x, remaining_x = features[:split_idx], features[split_idx:]\n",
    "train_y, remaining_y = encoded_labels[:split_idx], encoded_labels[split_idx:]\n",
    "\n",
    "test_idx = int(len(remaining_x)*0.5)\n",
    "val_x, test_x = remaining_x[:test_idx], remaining_x[test_idx:]\n",
    "val_y, test_y = remaining_y[:test_idx], remaining_y[test_idx:]\n",
    "\n",
    "## print out the shapes of your resultant feature data\n",
    "print(\"\\t\\t\\tFeature Shapes:\")\n",
    "print(\"Train set: \\t\\t{}\".format(train_x.shape), \n",
    "      \"\\nValidation set: \\t{}\".format(val_x.shape),\n",
    "      \"\\nTest set: \\t\\t{}\".format(test_x.shape))\n",
    "\n",
    "\n"
   ]
  },
  {
   "cell_type": "markdown",
   "metadata": {},
   "source": [
    "### Baseline model"
   ]
  },
  {
   "cell_type": "code",
   "execution_count": 32,
   "metadata": {},
   "outputs": [],
   "source": [
    "from sklearn.feature_extraction.text import TfidfTransformer, CountVectorizer\n",
    "from sklearn.model_selection import GridSearchCV, cross_val_score\n",
    "from sklearn.pipeline import Pipeline\n",
    "from sklearn.naive_bayes import BernoulliNB\n",
    "from sklearn.neighbors import KNeighborsClassifier\n",
    "from sklearn.ensemble import RandomForestClassifier\n",
    "from sklearn.svm import SVC"
   ]
  },
  {
   "cell_type": "code",
   "execution_count": 33,
   "metadata": {},
   "outputs": [
    {
     "name": "stdout",
     "output_type": "stream",
     "text": [
      "SVC accuracy  0.565\n",
      "best Pipeline(memory=None,\n",
      "         steps=[('tfidf',\n",
      "                 TfidfTransformer(norm='l2', smooth_idf=True,\n",
      "                                  sublinear_tf=False, use_idf=True)),\n",
      "                ('clf',\n",
      "                 SVC(C=0.1, cache_size=200, class_weight=None, coef0=0.0,\n",
      "                     decision_function_shape='ovr', degree=3, gamma=1.0,\n",
      "                     kernel='rbf', max_iter=-1, probability=False,\n",
      "                     random_state=None, shrinking=True, tol=0.001,\n",
      "                     verbose=False))],\n",
      "         verbose=False)\n"
     ]
    }
   ],
   "source": [
    "# define pipeline with SVC\n",
    "pipeline = Pipeline([\n",
    "            ('tfidf', TfidfTransformer()),\n",
    "            ('clf', SVC())\n",
    "        ])\n",
    "\n",
    "parameters = {\n",
    "        'tfidf__use_idf': (True, False),\n",
    "        'clf__C': (1e-01, 1e+00, 1e+01, 1e+02),\n",
    "        'clf__gamma':( 1e-01, 1e+00, 1e+01),\n",
    "    }\n",
    "    \n",
    "# create gridsearch object and return as final model pipeline\n",
    "model = GridSearchCV(pipeline, param_grid=parameters, cv=5,)\n",
    "\n",
    "model.fit(train_x, train_y)\n",
    "\n",
    "y_pred = model.predict(test_x)\n",
    "    \n",
    "acc = (y_pred == test_y).mean()\n",
    "\n",
    "print(\"SVC accuracy \", acc)\n",
    "print(\"best\", model.best_estimator_)"
   ]
  },
  {
   "cell_type": "code",
   "execution_count": 34,
   "metadata": {},
   "outputs": [
    {
     "name": "stdout",
     "output_type": "stream",
     "text": [
      "new best:                                             \n",
      "0.5475144811949416                                    \n",
      "using                                                 \n",
      "knn                                                   \n",
      "new best:                                                                        \n",
      "0.590011781708137                                                                \n",
      "using                                                                            \n",
      "naive_bayes                                                                      \n",
      "iters:                                                                           \n",
      "50                                                                               \n",
      ", acc:                                                                           \n",
      "0.590011781708137                                                                \n",
      "using                                                                            \n",
      "{'alpha': 0.11764786904752145, 'type': 'naive_bayes'}                            \n",
      "100%|██████████| 50/50 [00:04<00:00, 11.06trial/s, best loss: -0.590011781708137]\n",
      "best: {'alpha': 0.41326298071868384, 'classifier_type': 0}\n"
     ]
    }
   ],
   "source": [
    "# using hyperopt library\n",
    "\n",
    "from hyperopt import hp, tpe, fmin, Trials, STATUS_OK\n",
    "\n",
    "def hyperopt_train_test(params):\n",
    "    t = params['type']\n",
    "    del params['type']\n",
    "    if t == 'naive_bayes':\n",
    "        clf = BernoulliNB(**params)\n",
    "    elif t == 'svm':\n",
    "        clf = SVC(**params)\n",
    "    elif t == 'dtree':\n",
    "        clf = DecisionTreeClassifier(**params)\n",
    "    elif t == 'knn':\n",
    "        clf = KNeighborsClassifier(**params)\n",
    "    else:\n",
    "        return 0\n",
    "    return cross_val_score(clf, train_x, train_y).mean()\n",
    "\n",
    "\n",
    "# define hyperopt search space\n",
    "\n",
    "space = hp.choice('classifier_type', [\n",
    "    {\n",
    "        'type': 'naive_bayes',\n",
    "        'alpha': hp.uniform('alpha', 0.0, 2.0)\n",
    "    },\n",
    "    {\n",
    "        'type': 'knn',\n",
    "        'n_neighbors': hp.choice('knn_n_neighbors', range(1,50,5))\n",
    "    }\n",
    "])\n",
    "\n",
    "# space1 = hp.choice('classifier_type', [\n",
    "#     {\n",
    "#         'type': 'naive_bayes',\n",
    "#         'alpha': hp.uniform('alpha', 0.0, 2.0)\n",
    "#     },\n",
    "#     {\n",
    "#         'type': 'svm',\n",
    "#         'C': hp.uniform('C', 0, 10.0),\n",
    "#         'kernel': hp.choice('kernel', ['linear', 'rbf']),\n",
    "#         'gamma': hp.uniform('gamma', 0, 20.0)\n",
    "#     },\n",
    "#     {\n",
    "#         'type': 'randomforest',\n",
    "#         'max_depth': hp.choice('max_depth', range(1,20,2)),\n",
    "#         'max_features': hp.choice('max_features', range(1,5)),\n",
    "#         'n_estimators': hp.choice('n_estimators', range(1, 200, 50)),\n",
    "#         'criterion': hp.choice('criterion', [\"gini\", \"entropy\"]),\n",
    "#         'scale': hp.choice('scale', [0, 1]),\n",
    "#         'normalize': hp.choice('normalize', [0, 1])\n",
    "#     },\n",
    "#     {\n",
    "#         'type': 'knn',\n",
    "#         'n_neighbors': hp.choice('knn_n_neighbors', range(1,50,10))\n",
    "#     }\n",
    "# ])\n",
    "\n",
    "count = 0\n",
    "best = 0\n",
    "def f(params):\n",
    "    global best, count\n",
    "    count += 1\n",
    "    acc = hyperopt_train_test(params.copy())\n",
    "    if acc > best:\n",
    "        print ('new best:', acc, 'using', params['type'])\n",
    "        best = acc\n",
    "    if count % 50 == 0:\n",
    "        print ('iters:', count, ', acc:', acc, 'using', params)\n",
    "    return {'loss': -acc, 'status': STATUS_OK}\n",
    "\n",
    "trials = Trials()\n",
    "best = fmin(f, space, algo=tpe.suggest, max_evals=50, trials=trials, )\n",
    "print ('best:', best)"
   ]
  },
  {
   "cell_type": "markdown",
   "metadata": {},
   "source": [
    "---\n",
    "## DataLoader和批处理\n",
    "\n",
    "创建训练，测试和验证数据之后，可以通过以下两个步骤为该数据创建DataLoader：\n",
    "1. 使用[TensorDataset](https://pytorch.org/docs/stable/data.html#)创建用于训练模型时，提供访问便利的数据格式的数据集， 该格式将输入数据集和标签数据集匹配相同的第一维。\n",
    "\n",
    "2. 创建DataLoader并批处理我们的训练，验证和测试Tensor数据集。\n",
    "\n",
    "```\n",
    "train_data = TensorDataset（torch.from_numpy（train_x），torch.from_numpy（train_y））\n",
    "train_loader = DataLoader（train_data，batch_size = 批处理大小）\n",
    "```\n"
   ]
  },
  {
   "cell_type": "code",
   "execution_count": 35,
   "metadata": {},
   "outputs": [],
   "source": [
    "import torch\n",
    "from torch.utils.data import TensorDataset, DataLoader\n",
    "\n",
    "# create Tensor datasets\n",
    "train_data = TensorDataset(torch.from_numpy(train_x), torch.from_numpy(train_y))\n",
    "valid_data = TensorDataset(torch.from_numpy(val_x), torch.from_numpy(val_y))\n",
    "test_data = TensorDataset(torch.from_numpy(test_x), torch.from_numpy(test_y))\n",
    "\n",
    "# dataloaders\n",
    "batch_size = 50\n",
    "\n",
    "# make sure to SHUFFLE your data\n",
    "train_loader = DataLoader(train_data, shuffle=True, batch_size=batch_size)\n",
    "valid_loader = DataLoader(valid_data, shuffle=True, batch_size=batch_size)\n",
    "test_loader = DataLoader(test_data, shuffle=True, batch_size=batch_size)"
   ]
  },
  {
   "cell_type": "code",
   "execution_count": 36,
   "metadata": {},
   "outputs": [
    {
     "name": "stdout",
     "output_type": "stream",
     "text": [
      "Sample input size:  torch.Size([50, 100])\n",
      "Sample input: \n",
      " tensor([[   0,    0,    0,  ...,  145,    1,  122],\n",
      "        [   0,    0,    0,  ...,    1,    5,   15],\n",
      "        [ 381,  101,  202,  ...,  190,    2, 3356],\n",
      "        ...,\n",
      "        [   0,    0,    0,  ...,   17,   52,  512],\n",
      "        [   0,    0,    0,  ...,   46,  640,   34],\n",
      "        [   0,    0,    0,  ..., 1361,    6,  142]])\n",
      "\n",
      "Sample label size:  torch.Size([50])\n",
      "Sample label: \n",
      " tensor([0, 1, 1, 0, 1, 1, 1, 1, 0, 0, 1, 1, 1, 0, 0, 0, 1, 1, 0, 1, 0, 1, 1, 1,\n",
      "        0, 0, 0, 0, 0, 0, 0, 1, 1, 0, 0, 1, 0, 1, 1, 1, 0, 1, 1, 0, 1, 0, 1, 1,\n",
      "        1, 0])\n"
     ]
    }
   ],
   "source": [
    "# obtain one batch of training data\n",
    "dataiter = iter(train_loader)\n",
    "sample_x, sample_y = dataiter.next()\n",
    "\n",
    "print('Sample input size: ', sample_x.size()) # batch_size, seq_length\n",
    "print('Sample input: \\n', sample_x)\n",
    "print()\n",
    "print('Sample label size: ', sample_y.size()) # batch_size\n",
    "print('Sample label: \\n', sample_y)"
   ]
  },
  {
   "cell_type": "markdown",
   "metadata": {},
   "source": [
    "---\n",
    "# Sentiment Network PyTorch架构\n",
    "\n",
    "### LSTM 架构\n",
    "\n",
    "\n",
    "<img src=\"assets/net_arch.png\" width=40%>\n",
    "\n",
    "\n",
    "\n",
    "神经网络层如下：\n",
    "1. [嵌入层](https://pytorch.org/docs/stable/nn.html#embedding)，可将词标记（整数）转换为特定大小的向量。\n",
    "2. 由hidden_state大小和层数定义的[LSTM层](https://pytorch.org/docs/stable/nn.html#lstm)\n",
    "3. 将LSTM层输出映射到所需output_size的完全连接的输出层\n",
    "4. Sigmoid激活层，将所有输出转换为值0-1； 返回**最后一个Sigmoid输出**作为此网络的输出。\n",
    "\n",
    "\n",
    "### 嵌入层\n",
    "\n",
    "需要添加一个[embeddding layer](https://pytorch.org/docs/stable/nn.html#embedding)因为我们的词汇表中有9523个词。以热独编码为输入的效率非常低。 因此，可以使用一个嵌入层并将该层用作查找表，而不是热独编码。 也可以使用Word2Vec训练嵌入层，然后在此处加载它。 但是，可以只创建一个新层，仅将其用于降维，然后让网络学习权重就可以了。\n",
    "\n",
    "\n",
    "### LSTM层\n",
    "\n",
    "创建一个[LSTM](https://pytorch.org/docs/stable/nn.html#lstm)的循环网络，该网络具有input_size，hidden_dim，层的个数，一个dropout和batch_first参数。\n",
    "\n",
    "大多数情况下，循环网络在多层的情况下会具有更好的性能； 2-3之间。 添加更多的层可以使网络学习真正复杂的关系。"
   ]
  },
  {
   "cell_type": "code",
   "execution_count": 37,
   "metadata": {},
   "outputs": [
    {
     "name": "stdout",
     "output_type": "stream",
     "text": [
      "No GPU available, training on CPU.\n"
     ]
    }
   ],
   "source": [
    "# First checking if GPU is available\n",
    "train_on_gpu=torch.cuda.is_available()\n",
    "\n",
    "if(train_on_gpu):\n",
    "    print('Training on GPU.')\n",
    "else:\n",
    "    print('No GPU available, training on CPU.')"
   ]
  },
  {
   "cell_type": "code",
   "execution_count": 38,
   "metadata": {},
   "outputs": [],
   "source": [
    "import torch.nn as nn\n",
    "\n",
    "class SentimentRNN(nn.Module):\n",
    "    \"\"\"\n",
    "    The RNN model that will be used to perform Sentiment analysis.\n",
    "    \"\"\"\n",
    "\n",
    "    def __init__(self, vocab_size, output_size, embedding_dim, hidden_dim, n_layers, drop_prob=0.5):\n",
    "        \"\"\"\n",
    "        Initialize the model by setting up the layers.\n",
    "        \"\"\"\n",
    "        super(SentimentRNN, self).__init__()\n",
    "\n",
    "        self.output_size = output_size\n",
    "        self.n_layers = n_layers\n",
    "        self.hidden_dim = hidden_dim\n",
    "        \n",
    "        # embedding and LSTM layers\n",
    "        self.embedding = nn.Embedding(vocab_size, embedding_dim)\n",
    "        self.lstm = nn.LSTM(embedding_dim, hidden_dim, n_layers, \n",
    "                            dropout=drop_prob, batch_first=True)\n",
    "        \n",
    "        # dropout layer\n",
    "        self.dropout = nn.Dropout(0.3)\n",
    "        \n",
    "        # linear and sigmoid layers\n",
    "        self.fc = nn.Linear(hidden_dim, output_size)\n",
    "        self.sig = nn.Sigmoid()        \n",
    "\n",
    "    def forward(self, x, hidden):\n",
    "        \"\"\"\n",
    "        Perform a forward pass of our model on some input and hidden state.\n",
    "        \"\"\"\n",
    "        batch_size = x.size(0)\n",
    "\n",
    "        # embeddings and lstm_out\n",
    "        embeds = self.embedding(x)\n",
    "        lstm_out, hidden = self.lstm(embeds, hidden)\n",
    "    \n",
    "        # stack up lstm outputs\n",
    "        lstm_out = lstm_out.contiguous().view(-1, self.hidden_dim)\n",
    "        \n",
    "        # dropout and fully-connected layer\n",
    "        out = self.dropout(lstm_out)\n",
    "        out = self.fc(out)\n",
    "        # sigmoid function\n",
    "        sig_out = self.sig(out)\n",
    "        \n",
    "        # reshape to be batch_size first\n",
    "        sig_out = sig_out.view(batch_size, -1)\n",
    "        sig_out = sig_out[:, -1] # get last batch of labels\n",
    "        \n",
    "        # return last sigmoid output and hidden state\n",
    "        return sig_out, hidden\n",
    "\n",
    "    \n",
    "    \n",
    "    def init_hidden(self, batch_size):\n",
    "        ''' Initializes hidden state '''\n",
    "        # Create two new tensors with sizes n_layers x batch_size x hidden_dim,\n",
    "        # initialized to zero, for hidden state and cell state of LSTM\n",
    "        weight = next(self.parameters()).data\n",
    "        \n",
    "        if (train_on_gpu):\n",
    "            hidden = (weight.new(self.n_layers, batch_size, self.hidden_dim).zero_().cuda(),\n",
    "                  weight.new(self.n_layers, batch_size, self.hidden_dim).zero_().cuda())\n",
    "        else:\n",
    "            hidden = (weight.new(self.n_layers, batch_size, self.hidden_dim).zero_(),\n",
    "                      weight.new(self.n_layers, batch_size, self.hidden_dim).zero_())\n",
    "        \n",
    "        return hidden\n",
    "        "
   ]
  },
  {
   "cell_type": "markdown",
   "metadata": {
    "heading_collapsed": true
   },
   "source": [
    "## 实例化网络\n",
    "\n",
    "首先，定义超参数。\n",
    "\n",
    "* `vocab_size`：词汇量或输入的值，词标记的范围。\n",
    "* `output_size`：需输出的大小； 输出的分类的个数数的数量（正/负）。\n",
    "* `embedding_dim`：嵌入查找表中的列数； 我们嵌入的大小。\n",
    "* `hidden_dim`：LSTM单元的隐藏层的神经单元的个数。 通常，越大越好。 常用值为128、256、512等。\n",
    "* `n_layers`：网络中LSTM的层数。 通常在1-3之间"
   ]
  },
  {
   "cell_type": "code",
   "execution_count": 39,
   "metadata": {
    "hidden": true
   },
   "outputs": [
    {
     "name": "stdout",
     "output_type": "stream",
     "text": [
      "SentimentRNN(\n",
      "  (embedding): Embedding(9524, 400)\n",
      "  (lstm): LSTM(400, 256, num_layers=2, batch_first=True, dropout=0.5)\n",
      "  (dropout): Dropout(p=0.3)\n",
      "  (fc): Linear(in_features=256, out_features=1, bias=True)\n",
      "  (sig): Sigmoid()\n",
      ")\n"
     ]
    }
   ],
   "source": [
    "# Instantiate the model w/ hyperparams\n",
    "vocab_size = len(vocab_to_int)+1 # +1 for the 0 padding + our word tokens\n",
    "output_size = 1\n",
    "embedding_dim = 400\n",
    "hidden_dim = 256\n",
    "n_layers = 2\n",
    "\n",
    "net = SentimentRNN(vocab_size, output_size, embedding_dim, hidden_dim, n_layers)\n",
    "\n",
    "print(net)"
   ]
  },
  {
   "cell_type": "markdown",
   "metadata": {
    "hidden": true
   },
   "source": [
    "---\n",
    "## 模型训练\n",
    "\n",
    "\n",
    "使用一种新型的交叉熵损失，该损失旨在与单个Sigmoid输出一起使用。 [BCELoss](https://pytorch.org/docs/stable/nn.html#bceloss), 或**二元交叉熵损失**将交叉熵损失输出一个于介于0和1之间数值。"
   ]
  },
  {
   "cell_type": "code",
   "execution_count": 40,
   "metadata": {
    "hidden": true
   },
   "outputs": [],
   "source": [
    "# Learning rate for our optimizer.\n",
    "lr=0.001\n",
    "\n",
    "# loss and optimization functions\n",
    "criterion = nn.BCELoss()\n",
    "optimizer = torch.optim.Adam(net.parameters(), lr=lr)\n"
   ]
  },
  {
   "cell_type": "code",
   "execution_count": 41,
   "metadata": {
    "hidden": true
   },
   "outputs": [
    {
     "name": "stdout",
     "output_type": "stream",
     "text": [
      "Epoch: 2/4... Step: 50... Loss: 0.480931... Val Loss: 0.553159\n",
      "Epoch: 4/4... Step: 100... Loss: 0.072312... Val Loss: 0.667322\n"
     ]
    }
   ],
   "source": [
    "# training params\n",
    "\n",
    "# Number of times to iterate through the training dataset.\n",
    "epochs = 4 # 3-4 is approx where I noticed the validation loss stop decreasing\n",
    "\n",
    "counter = 0\n",
    "print_every = 50\n",
    "\n",
    "# The maximum gradient value to clip at (to prevent exploding gradients).\n",
    "clip=5 # gradient clipping\n",
    "\n",
    "# move model to GPU, if available\n",
    "if(train_on_gpu):\n",
    "    net.cuda()\n",
    "\n",
    "net.train()\n",
    "# train for some number of epochs\n",
    "for e in range(epochs):\n",
    "    # initialize hidden state\n",
    "    h = net.init_hidden(batch_size)\n",
    "\n",
    "    # batch loop\n",
    "    for inputs, labels in train_loader:\n",
    "        counter += 1\n",
    "\n",
    "        if(train_on_gpu):\n",
    "            inputs, labels = inputs.cuda(), labels.cuda()\n",
    "\n",
    "        # Creating new variables for the hidden state, otherwise\n",
    "        # we'd backprop through the entire training history\n",
    "        h = tuple([each.data for each in h])\n",
    "\n",
    "        # zero accumulated gradients\n",
    "        net.zero_grad()\n",
    "\n",
    "        # get the output from the model\n",
    "        output, h = net(inputs, h)\n",
    "\n",
    "        # calculate the loss and perform backprop\n",
    "        loss = criterion(output.squeeze(), labels.float())\n",
    "        loss.backward()\n",
    "        # `clip_grad_norm` helps prevent the exploding gradient problem in RNNs / LSTMs.\n",
    "        nn.utils.clip_grad_norm_(net.parameters(), clip)\n",
    "        optimizer.step()\n",
    "\n",
    "        # loss stats\n",
    "        if counter % print_every == 0:\n",
    "            # Get validation loss\n",
    "            val_h = net.init_hidden(batch_size)\n",
    "            val_losses = []\n",
    "            net.eval()\n",
    "            for inputs, labels in valid_loader:\n",
    "\n",
    "                # Creating new variables for the hidden state, otherwise\n",
    "                # we'd backprop through the entire training history\n",
    "                val_h = tuple([each.data for each in val_h])\n",
    "\n",
    "                if(train_on_gpu):\n",
    "                    inputs, labels = inputs.cuda(), labels.cuda()\n",
    "\n",
    "                output, val_h = net(inputs, val_h)\n",
    "                val_loss = criterion(output.squeeze(), labels.float())\n",
    "\n",
    "                val_losses.append(val_loss.item())\n",
    "\n",
    "            net.train()\n",
    "            print(\"Epoch: {}/{}...\".format(e+1, epochs),\n",
    "                  \"Step: {}...\".format(counter),\n",
    "                  \"Loss: {:.6f}...\".format(loss.item()),\n",
    "                  \"Val Loss: {:.6f}\".format(np.mean(val_losses)))"
   ]
  },
  {
   "cell_type": "markdown",
   "metadata": {
    "hidden": true
   },
   "source": [
    "---\n",
    "## 测试\n",
    "\n",
    "\n",
    "* **测试数据性能：**首先，查看训练好的模型在test_data上运行效果。计算测试数据的平均损失和准确性。\n",
    "\n",
    "* **关于用户生成的数据的推论：**其次，查看训练好的模型对一个不带标签的示例评论，并会产生什么预测。 "
   ]
  },
  {
   "cell_type": "code",
   "execution_count": 42,
   "metadata": {
    "hidden": true
   },
   "outputs": [
    {
     "name": "stdout",
     "output_type": "stream",
     "text": [
      "Test loss: 0.706\n",
      "Test accuracy: 0.780\n"
     ]
    }
   ],
   "source": [
    "# Get test data loss and accuracy\n",
    "\n",
    "test_losses = [] # track loss\n",
    "num_correct = 0\n",
    "\n",
    "# for classification report\n",
    "labels_list = []\n",
    "preds_list = []\n",
    "\n",
    "# init hidden state\n",
    "h = net.init_hidden(batch_size)\n",
    "\n",
    "net.eval()\n",
    "# iterate over test data\n",
    "for inputs, labels in test_loader:\n",
    "\n",
    "    # Creating new variables for the hidden state, otherwise\n",
    "    # we'd backprop through the entire training history\n",
    "    h = tuple([each.data for each in h])\n",
    "\n",
    "    if(train_on_gpu):\n",
    "        inputs, labels = inputs.cuda(), labels.cuda()\n",
    "    \n",
    "    # get predicted outputs\n",
    "    output, h = net(inputs, h)\n",
    "    \n",
    "    # calculate loss\n",
    "    test_loss = criterion(output.squeeze(), labels.float())\n",
    "    test_losses.append(test_loss.item())\n",
    "    \n",
    "    # convert output probabilities to predicted class (0 or 1)\n",
    "    pred = torch.round(output.squeeze())  # rounds to the nearest integer\n",
    "    \n",
    "    # compare predictions to true label\n",
    "    correct_tensor = pred.eq(labels.float().view_as(pred))\n",
    "    correct = np.squeeze(correct_tensor.numpy()) if not train_on_gpu else \\\n",
    "                        np.squeeze(correct_tensor.cpu().numpy())\n",
    "    num_correct += np.sum(correct)\n",
    "    \n",
    "    # append to list\n",
    "    preds_list += pred.tolist()\n",
    "    labels_list += labels.tolist()\n",
    "\n",
    "    \n",
    "\n",
    "# avg test loss\n",
    "print(\"Test loss: {:.3f}\".format(np.mean(test_losses)))\n",
    "\n",
    "# accuracy over all test data\n",
    "test_acc = num_correct/len(test_loader.dataset)\n",
    "print(\"Test accuracy: {:.3f}\".format(test_acc))\n",
    "\n",
    "\n"
   ]
  },
  {
   "cell_type": "code",
   "execution_count": 43,
   "metadata": {
    "hidden": true
   },
   "outputs": [
    {
     "data": {
      "text/plain": [
       "array([[69, 30],\n",
       "       [14, 87]])"
      ]
     },
     "execution_count": 43,
     "metadata": {},
     "output_type": "execute_result"
    }
   ],
   "source": [
    "from sklearn.metrics import confusion_matrix, classification_report\n",
    "\n",
    "confusion_matrix(labels_list, preds_list)"
   ]
  },
  {
   "cell_type": "code",
   "execution_count": 44,
   "metadata": {
    "hidden": true
   },
   "outputs": [
    {
     "name": "stdout",
     "output_type": "stream",
     "text": [
      "              precision    recall  f1-score   support\n",
      "\n",
      "           0       0.83      0.70      0.76        99\n",
      "           1       0.74      0.86      0.80       101\n",
      "\n",
      "    accuracy                           0.78       200\n",
      "   macro avg       0.79      0.78      0.78       200\n",
      "weighted avg       0.79      0.78      0.78       200\n",
      "\n"
     ]
    }
   ],
   "source": [
    "print(classification_report(labels_list, preds_list))"
   ]
  },
  {
   "cell_type": "markdown",
   "metadata": {
    "heading_collapsed": true,
    "hidden": true
   },
   "source": [
    "### 推论\n",
    "\n",
    "检查模型是否正确预测！"
   ]
  },
  {
   "cell_type": "code",
   "execution_count": 45,
   "metadata": {
    "hidden": true
   },
   "outputs": [],
   "source": [
    "def tokenize_review(test_review):\n",
    "    '''\n",
    "    the tokenization and numerization of a review text\n",
    "    '''\n",
    "    # test code and generate tokenized review\n",
    "    test_tok = tokenizer(test_review)\n",
    "\n",
    "    # tokens\n",
    "    test_ints = []\n",
    "    test_ints.append([vocab_to_int[word] for word in test_tok])\n",
    "\n",
    "    return test_ints"
   ]
  },
  {
   "cell_type": "code",
   "execution_count": 46,
   "metadata": {
    "hidden": true
   },
   "outputs": [],
   "source": [
    "def predict(net, test_review, sequence_length=200):\n",
    "    '''\n",
    "    INPUT\n",
    "    net - the trained model\n",
    "    test_review - new review which unseen for model to predict \n",
    "    sequence_length - sequence length parameter for trained model\n",
    "    \n",
    "    OUTPUT\n",
    "    print result based on prediction\n",
    "    '''\n",
    "    net.eval()\n",
    "    \n",
    "    # tokenize review\n",
    "    test_ints = tokenize_review(test_review)\n",
    "    \n",
    "    # pad tokenized sequence\n",
    "    seq_length=sequence_length\n",
    "    features = pad_features(test_ints, seq_length)\n",
    "    \n",
    "    # convert to tensor to pass into your model\n",
    "    feature_tensor = torch.from_numpy(features)\n",
    "    \n",
    "    batch_size = feature_tensor.size(0)\n",
    "    \n",
    "    # initialize hidden state\n",
    "    h = net.init_hidden(batch_size)\n",
    "    \n",
    "    if(train_on_gpu):\n",
    "        feature_tensor = feature_tensor.cuda()\n",
    "    \n",
    "    # get the output from the model\n",
    "    output, h = net(feature_tensor, h)\n",
    "\n",
    "    \n",
    "    # convert output probabilities to predicted class (0 or 1)\n",
    "    pred = torch.round(output.squeeze())\n",
    "    \n",
    "    # printing output value, before rounding\n",
    "    print('Prediction value, pre-rounding: {:.6f}'.format(output.item()))\n",
    "    \n",
    "    # print custom response\n",
    "    if(pred.item()==1):\n",
    "        print(\"Positive review detected!\")\n",
    "    else:\n",
    "        print(\"Negative review detected.\")"
   ]
  },
  {
   "cell_type": "code",
   "execution_count": 47,
   "metadata": {
    "hidden": true
   },
   "outputs": [
    {
     "name": "stdout",
     "output_type": "stream",
     "text": [
      "['这家', '的', '环境', '差', '菜', '也', '不', '好吃']\n",
      "[[96, 1, 36, 108, 16, 6, 8, 18]]\n",
      "[[  0   0   0   0   0   0   0   0   0   0   0   0   0   0   0   0   0   0\n",
      "    0   0   0   0   0   0   0   0   0   0   0   0   0   0   0   0   0   0\n",
      "    0   0   0   0   0   0   0   0   0   0   0   0   0   0   0   0   0   0\n",
      "    0   0   0   0   0   0   0   0   0   0   0   0   0   0   0   0   0   0\n",
      "    0   0   0   0   0   0   0   0   0   0   0   0   0   0   0   0   0   0\n",
      "    0   0  96   1  36 108  16   6   8  18]]\n",
      "torch.Size([1, 100])\n"
     ]
    }
   ],
   "source": [
    "# test code and generate tokenized review\n",
    "test_tok = tokenizer('这家的环境差，菜也不好吃。')\n",
    "print(test_tok)\n",
    "\n",
    "test_ints = [] \n",
    "test_ints.append([vocab_to_int[word] for word in test_tok])\n",
    "print(test_ints)\n",
    "\n",
    "# test sequence padding\n",
    "t_features = pad_features(test_ints, seq_length)\n",
    "print(t_features)\n",
    "\n",
    "# test conversion to tensor and pass into your model\n",
    "t_feature_tensor = torch.from_numpy(t_features)\n",
    "print(t_feature_tensor.size())"
   ]
  },
  {
   "cell_type": "code",
   "execution_count": 48,
   "metadata": {
    "hidden": true
   },
   "outputs": [],
   "source": [
    "# negative test review\n",
    "test_review_neg = '这家的环境差，菜也不好吃。'\n",
    "test_review_neg2 = '这家的环境不差，但是菜不怎么好吃。'\n",
    "\n",
    "# positive test review\n",
    "test_review_pos = '这家店的味道不错。'"
   ]
  },
  {
   "cell_type": "code",
   "execution_count": 49,
   "metadata": {
    "hidden": true
   },
   "outputs": [
    {
     "name": "stdout",
     "output_type": "stream",
     "text": [
      "Prediction value, pre-rounding: 0.120945\n",
      "Negative review detected.\n",
      "Prediction value, pre-rounding: 0.923859\n",
      "Positive review detected!\n",
      "Prediction value, pre-rounding: 0.987626\n",
      "Positive review detected!\n"
     ]
    }
   ],
   "source": [
    "# make predictions\n",
    "\n",
    "predict(net, test_review_neg, seq_length)\n",
    "\n",
    "predict(net, test_review_neg2, seq_length)\n",
    "\n",
    "predict(net, test_review_pos, seq_length)"
   ]
  },
  {
   "cell_type": "code",
   "execution_count": 50,
   "metadata": {
    "hidden": true
   },
   "outputs": [
    {
     "data": {
      "text/plain": [
       "SentimentRNN(\n",
       "  (embedding): Embedding(9524, 400)\n",
       "  (lstm): LSTM(400, 256, num_layers=2, batch_first=True, dropout=0.5)\n",
       "  (dropout): Dropout(p=0.3)\n",
       "  (fc): Linear(in_features=256, out_features=1, bias=True)\n",
       "  (sig): Sigmoid()\n",
       ")"
      ]
     },
     "execution_count": 50,
     "metadata": {},
     "output_type": "execute_result"
    }
   ],
   "source": [
    "# model summary\n",
    "\n",
    "net"
   ]
  },
  {
   "cell_type": "code",
   "execution_count": 51,
   "metadata": {
    "hidden": true
   },
   "outputs": [
    {
     "data": {
      "text/plain": [
       "(9524, 400)"
      ]
     },
     "execution_count": 51,
     "metadata": {},
     "output_type": "execute_result"
    }
   ],
   "source": [
    "# get word embedding weights\n",
    "\n",
    "emb_lstm = net.embedding.weight.detach().numpy()\n",
    "        \n",
    "emb_lstm.shape      "
   ]
  },
  {
   "cell_type": "code",
   "execution_count": 52,
   "metadata": {
    "hidden": true
   },
   "outputs": [
    {
     "data": {
      "image/png": "[encoded data removed]",
      "text/plain": [
       "<Figure size 576x576 with 1 Axes>"
      ]
     },
     "metadata": {
      "needs_background": "light"
     },
     "output_type": "display_data"
    }
   ],
   "source": [
    "# visualizing some words in input space\n",
    "\n",
    "from sklearn.manifold import TSNE\n",
    "\n",
    "labels = ['不','不错','可以','吃','味道','好','好吃','没','没有','的','菜','说','难吃','推荐', \n",
    "             '太甜','淡', '太咸','一级','超级','差强人意','一般般','极慢']\n",
    "\n",
    "word2int = [vocab_to_int[w] for w in labels]\n",
    "\n",
    "tokens = [emb_lstm[i] for i in word2int]\n",
    "\n",
    "#tsne_model = TSNE(perplexity=40, n_components=2, init='pca', n_iter=2500, random_state=23)\n",
    "tsne_model = TSNE()\n",
    "new_values = tsne_model.fit_transform(tokens)\n",
    "\n",
    "x = []\n",
    "y = []\n",
    "for value in new_values:\n",
    "    x.append(value[0])\n",
    "    y.append(value[1])\n",
    "    \n",
    "plt.figure(figsize=(8, 8)) \n",
    "for i in range(len(x)):\n",
    "    plt.scatter(x[i],y[i])\n",
    "    plt.annotate(labels[i],\n",
    "                 xy=(x[i], y[i]),\n",
    "                 xytext=(5, 2),\n",
    "                 textcoords='offset points',\n",
    "                 ha='right',\n",
    "                 va='bottom')\n",
    "plt.show()"
   ]
  },
  {
   "cell_type": "markdown",
   "metadata": {
    "collapsed": true
   },
   "source": [
    "## Using Fastai Library and BERT pretrained model\n",
    "\n",
    "### Fastai\n",
    "\n",
    "一个开源的融合了机器学习和深度学习业界最佳实践的软件库。[参见](https://www.fast.ai/)\n",
    "\n",
    "\n",
    "### BERT \n",
    "\n",
    "相关的主要文献。\n",
    "1. BERT（来自Google）论文: BERT: Pre-training of Deep Bidirectional Transformers for Language Understanding\n",
    "2. GPT（来自OpenAI）论文: Improving Language Understanding by Generative Pre-Training\n",
    "3. GPT-2（来自OpenAI）论文: Language Models are Unsupervised Multitask Learners\n",
    "4. Transformer-XL（来自Google/CMU）论文: Transformer-XL: Attentive Language Models Beyond a Fixed-Length Context\n",
    "5. XLNet（来自Google/CMU）论文: XLNet: Generalized Autoregressive Pretraining for Language Understanding\n",
    "6. XLM（来自Facebook）论文: Cross-lingual Language Model Pretraining\n",
    "\n",
    "BERT模型是由Jacob Devlin，Ming Ming-Wei Chang，Kenton Lee和Kristina Toutanova在论文1中提出的。 这是一种双向Trnsformer，结合了Masked Language Modeling目标和下一个句子的预测，在包括多伦多图书语料库和维基百科在内的大型语料库中进行了预训练。\n",
    "\n",
    "[一些重要的细节以及如何使用BERT](http://mlexplained.com/2019/01/07/paper-dissected-bert-pre-training-of-deep-bidirectional-transformers-for-language-understanding-explained/)\n",
    "* 语言建模是使用未标记的数据对NLP中的神经网络进行预训练\n",
    "* 传统语言模型采用前n个标记，并预测下一个。 相反，BERT训练的语言模型在预测时会考虑前一个和后一个标记。\n",
    "* BERT还接受了下一个句子预测任务的培训，以更好地处理需要对两个句子之间的关系进行推理的任务（例如问题回答）\n",
    "* BERT使用Transformer体系结构对句子进行编码。\n",
    "\n",
    "\n",
    "[BertTokenizer](https://huggingface.co/transformers/model_doc/bert.html?highlight=berttokenizer)"
   ]
  },
  {
   "cell_type": "code",
   "execution_count": 53,
   "metadata": {},
   "outputs": [],
   "source": [
    "# import fastai library and huggingface pytorch transformers library\n",
    "\n",
    "from fastai import *\n",
    "from fastai.text import *\n",
    "from pytorch_transformers import BertTokenizer\n",
    "from transformers import BertForSequenceClassification"
   ]
  },
  {
   "cell_type": "code",
   "execution_count": 54,
   "metadata": {},
   "outputs": [],
   "source": [
    "# define the pre-trained BERT, RoBERTa model to use, squence max length, and batch size\n",
    "\n",
    "bert_model = [\"bert-base-chinese\", \"hfl/chinese-roberta-wwm-ext\"]\n",
    "max_seq_len = 256\n",
    "batch_size = 32"
   ]
  },
  {
   "cell_type": "code",
   "execution_count": 55,
   "metadata": {},
   "outputs": [],
   "source": [
    "# define the BERT tokenizer based on chinese pre-traind model\n",
    "\n",
    "bert_tokenizer = BertTokenizer.from_pretrained(bert_model[0])"
   ]
  },
  {
   "cell_type": "code",
   "execution_count": 56,
   "metadata": {},
   "outputs": [],
   "source": [
    "# find the vocabulary for the chinese characters\n",
    "\n",
    "bert_vocab = Vocab(list(bert_tokenizer.vocab.keys()))\n",
    "#bert_vocab"
   ]
  },
  {
   "cell_type": "code",
   "execution_count": 57,
   "metadata": {},
   "outputs": [],
   "source": [
    "# define specific tokenizer for fastai\n",
    "\n",
    "class BertFastaiTokenizer(BaseTokenizer):\n",
    "    def __init__(self, tokenizer, max_seq_len=128, **kwargs):\n",
    "        self.pretrained_tokenizer = tokenizer\n",
    "        self.max_seq_len = max_seq_len\n",
    "\n",
    "    def __call__(self, *args, **kwargs):\n",
    "        return self\n",
    "\n",
    "    def tokenizer(self, t):\n",
    "        return [\"[CLS]\"] + self.pretrained_tokenizer.tokenize(t)[:self.max_seq_len - 2] + [\"[SEP]\"]\n",
    "\n",
    "# define token function\n",
    "tok_func = BertFastaiTokenizer(bert_tokenizer, max_seq_len=max_seq_len)\n",
    "\n",
    "# tokenizer for fastai\n",
    "bert_fastai_tokenizer = Tokenizer(\n",
    "    tok_func=tok_func,\n",
    "    pre_rules = [],\n",
    "    post_rules = []\n",
    ")"
   ]
  },
  {
   "cell_type": "code",
   "execution_count": 58,
   "metadata": {},
   "outputs": [
    {
     "name": "stdout",
     "output_type": "stream",
     "text": [
      "(1600, 2)\n",
      "(200, 2)\n",
      "(200, 2)\n"
     ]
    }
   ],
   "source": [
    "# train, validation, test set split\n",
    "\n",
    "from sklearn.model_selection import train_test_split\n",
    "\n",
    "train, test = train_test_split(df, test_size=.1, random_state=1)\n",
    "train, valid = train_test_split(train, test_size=.111, random_state=1)\n",
    "\n",
    "print(train.shape)\n",
    "print(valid.shape)\n",
    "print(test.shape)"
   ]
  },
  {
   "cell_type": "code",
   "execution_count": 59,
   "metadata": {},
   "outputs": [],
   "source": [
    "# DataBunch object that is used inside Learner to train a model.\n",
    "# The Databunch handles all the processing of data behind the scenes \n",
    "# and prepares the data to be passed to a Learner.\n",
    "\n",
    "databunch = TextClasDataBunch.from_df(Path(\".\"), train, valid, test,\n",
    "                  tokenizer=bert_fastai_tokenizer,\n",
    "                  vocab=bert_vocab,\n",
    "                  include_bos=False,\n",
    "                  include_eos=False,\n",
    "                  text_cols=\"comment\",\n",
    "                  label_cols='sentiment',\n",
    "                  bs=batch_size,\n",
    "                  collate_fn=partial(pad_collate, pad_first=False, pad_idx=0),\n",
    "             )"
   ]
  },
  {
   "cell_type": "code",
   "execution_count": 60,
   "metadata": {},
   "outputs": [
    {
     "data": {
      "text/html": [
       "<table border=\"1\" class=\"dataframe\">\n",
       "  <thead>\n",
       "    <tr style=\"text-align: right;\">\n",
       "      <th>text</th>\n",
       "      <th>target</th>\n",
       "    </tr>\n",
       "  </thead>\n",
       "  <tbody>\n",
       "    <tr>\n",
       "      <td>[CLS] 【 位 置 】 恒 隆 六 楼 ， 看 见 鼎 泰 丰 后 在 一 直 往 前 走 ， 排 队 人 多 的 就 是 了 。 【 环 境 】 面 积 挺 大 的 ， 可 以 容 纳 桌 数 在 恒 隆 这 些 餐 厅 里 绝 对 是 前 几 名 。 很 亮 堂 ， 就 餐 环</td>\n",
       "      <td>1</td>\n",
       "    </tr>\n",
       "    <tr>\n",
       "      <td>[CLS] 周 六 中 午 去 的 ， 排 队 的 人 真 的 超 级 多 ， 我 们 拿 的 号 前 面 大 概 还 有 六 十 几 桌 ， 等 了 一 个 多 小 时 左 右 ， 上 菜 的 速 度 还 是 很 快 的 ， 很 有 效 率 ， 环 境 也 不 错 。 我 们 这 次</td>\n",
       "      <td>1</td>\n",
       "    </tr>\n",
       "    <tr>\n",
       "      <td>[CLS] 【 小 吊 梨 汤 】 就 是 一 个 很 普 通 很 普 通 很 普 通 的 家 常 炒 菜 馆 ！ 量 很 小 ！ 味 道 正 常 ！ 很 少 写 点 评 之 前 如 此 的 亢 奋 ！ 我 该 用 什 么 样 的 语 气 写 这 篇 点 评 呢 ！ 写 点 评 可 以</td>\n",
       "      <td>0</td>\n",
       "    </tr>\n",
       "    <tr>\n",
       "      <td>[CLS] 终 于 在 天 津 开 业 了 ， 大 悦 城 总 是 开 一 些 很 火 的 餐 厅 ， 我 是 6 点 到 的 ， 等 了 大 约 1 个 小 时 吧 ， 这 么 网 红 的 餐 厅 能 不 等 位 吗 ？ 也 是 正 常 。 我 们 坐 在 一 个 小 房 间 ， 里</td>\n",
       "      <td>1</td>\n",
       "    </tr>\n",
       "    <tr>\n",
       "      <td>[CLS] 点 评 上 评 价 这 么 高 的 餐 厅 ， 去 了 以 后 大 失 所 望 啊 ， 真 是 有 损 天 津 人 好 吃 的 名 声 ， 严 重 怀 疑 点 评 的 饭 托 儿 ！ 说 是 量 大 ， 其 实 就 是 盘 子 大 。 点 的 都 是 推 荐 的 菜 。 妈</td>\n",
       "      <td>0</td>\n",
       "    </tr>\n",
       "  </tbody>\n",
       "</table>"
      ],
      "text/plain": [
       "<IPython.core.display.HTML object>"
      ]
     },
     "metadata": {},
     "output_type": "display_data"
    }
   ],
   "source": [
    "# show data in databunch\n",
    "\n",
    "databunch.show_batch()"
   ]
  },
  {
   "cell_type": "markdown",
   "metadata": {},
   "source": [
    "### Build the Learner"
   ]
  },
  {
   "cell_type": "code",
   "execution_count": 61,
   "metadata": {},
   "outputs": [],
   "source": [
    "# trick: taking the first item of the result of forward function to avoid conflict \n",
    "# between fastai and huggingface impl\n",
    "\n",
    "class MyBERTmodel(BertForSequenceClassification):\n",
    "    def forward(self, *args, **kwargs):\n",
    "        return super().forward(*args, **kwargs)[0]\n",
    "\n"
   ]
  },
  {
   "cell_type": "code",
   "execution_count": 62,
   "metadata": {},
   "outputs": [],
   "source": [
    "# define the bert model for learner\n",
    "bert_pretrained_model = MyBERTmodel.from_pretrained(bert_model[0], num_labels=2)"
   ]
  },
  {
   "cell_type": "code",
   "execution_count": 63,
   "metadata": {},
   "outputs": [
    {
     "name": "stdout",
     "output_type": "stream",
     "text": [
      "The model has 201 different named parameters.\n",
      "\n",
      "==== Embedding Layer ====\n",
      "\n",
      "bert.embeddings.word_embeddings.weight                  (21128, 768)\n",
      "bert.embeddings.position_embeddings.weight                (512, 768)\n",
      "bert.embeddings.token_type_embeddings.weight                (2, 768)\n",
      "bert.embeddings.LayerNorm.weight                              (768,)\n",
      "bert.embeddings.LayerNorm.bias                                (768,)\n",
      "\n",
      "==== First Transformer ====\n",
      "\n",
      "bert.encoder.layer.0.attention.self.query.weight          (768, 768)\n",
      "bert.encoder.layer.0.attention.self.query.bias                (768,)\n",
      "bert.encoder.layer.0.attention.self.key.weight            (768, 768)\n",
      "bert.encoder.layer.0.attention.self.key.bias                  (768,)\n",
      "bert.encoder.layer.0.attention.self.value.weight          (768, 768)\n",
      "bert.encoder.layer.0.attention.self.value.bias                (768,)\n",
      "bert.encoder.layer.0.attention.output.dense.weight        (768, 768)\n",
      "bert.encoder.layer.0.attention.output.dense.bias              (768,)\n",
      "bert.encoder.layer.0.attention.output.LayerNorm.weight        (768,)\n",
      "bert.encoder.layer.0.attention.output.LayerNorm.bias          (768,)\n",
      "bert.encoder.layer.0.intermediate.dense.weight           (3072, 768)\n",
      "bert.encoder.layer.0.intermediate.dense.bias                 (3072,)\n",
      "bert.encoder.layer.0.output.dense.weight                 (768, 3072)\n",
      "bert.encoder.layer.0.output.dense.bias                        (768,)\n",
      "bert.encoder.layer.0.output.LayerNorm.weight                  (768,)\n",
      "bert.encoder.layer.0.output.LayerNorm.bias                    (768,)\n",
      "\n",
      "==== Output Layer ====\n",
      "\n",
      "bert.pooler.dense.weight                                  (768, 768)\n",
      "bert.pooler.dense.bias                                        (768,)\n",
      "classifier.weight                                           (2, 768)\n",
      "classifier.bias                                                 (2,)\n"
     ]
    }
   ],
   "source": [
    "# helper function to check the model parameter shapes\n",
    "def print_model(model):\n",
    "    '''print all of the model's parameters as a list of tuples.\n",
    "    '''\n",
    "    params = list(model.named_parameters())\n",
    "\n",
    "    print('The model has {:} different named parameters.\\n'.format(len(params)))\n",
    "    print('==== Embedding Layer ====\\n')\n",
    "    for p in params[0:5]:\n",
    "        print(\"{:<55} {:>12}\".format(p[0], str(tuple(p[1].size()))))\n",
    "    print('\\n==== First Transformer ====\\n')\n",
    "    for p in params[5:21]:\n",
    "        print(\"{:<55} {:>12}\".format(p[0], str(tuple(p[1].size()))))\n",
    "    print('\\n==== Output Layer ====\\n')\n",
    "    for p in params[-4:]:\n",
    "        print(\"{:<55} {:>12}\".format(p[0], str(tuple(p[1].size()))))\n",
    "\n",
    "# print the BERT mode\n",
    "print_model(bert_pretrained_model)"
   ]
  },
  {
   "cell_type": "markdown",
   "metadata": {},
   "source": [
    "Learner for BERT mode\n",
    "\n",
    "Learner, the Fastai object, binds together a PyTorch model, a dataset, an optimizer, and a loss function; the entire learner object then will allow user to launch training."
   ]
  },
  {
   "cell_type": "code",
   "execution_count": 64,
   "metadata": {},
   "outputs": [],
   "source": [
    "# define loss function and learner object for BERT\n",
    "\n",
    "loss_func = nn.CrossEntropyLoss()\n",
    "learn = Learner(databunch,\n",
    "                bert_pretrained_model,\n",
    "                loss_func=loss_func,\n",
    "                metrics=accuracy)"
   ]
  },
  {
   "cell_type": "markdown",
   "metadata": {},
   "source": [
    "Learner for RoBERTa mode"
   ]
  },
  {
   "cell_type": "code",
   "execution_count": 65,
   "metadata": {},
   "outputs": [],
   "source": [
    "# apply to Roberta transformer\n",
    "\n",
    "from transformers import RobertaForSequenceClassification\n",
    "\n",
    "class MyRoBERTaModel(RobertaForSequenceClassification):\n",
    "    def forward(self, *args, **kwargs):\n",
    "        return super().forward(*args, **kwargs)[0]"
   ]
  },
  {
   "cell_type": "code",
   "execution_count": 66,
   "metadata": {},
   "outputs": [],
   "source": [
    "# define the bert model for learner\n",
    "roberta_pretrained_model = MyRoBERTaModel.from_pretrained(bert_model[1], num_labels=2)"
   ]
  },
  {
   "cell_type": "code",
   "execution_count": 67,
   "metadata": {},
   "outputs": [
    {
     "name": "stdout",
     "output_type": "stream",
     "text": [
      "The model has 203 different named parameters.\n",
      "\n",
      "==== Embedding Layer ====\n",
      "\n",
      "roberta.embeddings.word_embeddings.weight               (21128, 768)\n",
      "roberta.embeddings.position_embeddings.weight             (512, 768)\n",
      "roberta.embeddings.token_type_embeddings.weight             (2, 768)\n",
      "roberta.embeddings.LayerNorm.weight                           (768,)\n",
      "roberta.embeddings.LayerNorm.bias                             (768,)\n",
      "\n",
      "==== First Transformer ====\n",
      "\n",
      "roberta.encoder.layer.0.attention.self.query.weight       (768, 768)\n",
      "roberta.encoder.layer.0.attention.self.query.bias             (768,)\n",
      "roberta.encoder.layer.0.attention.self.key.weight         (768, 768)\n",
      "roberta.encoder.layer.0.attention.self.key.bias               (768,)\n",
      "roberta.encoder.layer.0.attention.self.value.weight       (768, 768)\n",
      "roberta.encoder.layer.0.attention.self.value.bias             (768,)\n",
      "roberta.encoder.layer.0.attention.output.dense.weight     (768, 768)\n",
      "roberta.encoder.layer.0.attention.output.dense.bias           (768,)\n",
      "roberta.encoder.layer.0.attention.output.LayerNorm.weight       (768,)\n",
      "roberta.encoder.layer.0.attention.output.LayerNorm.bias       (768,)\n",
      "roberta.encoder.layer.0.intermediate.dense.weight        (3072, 768)\n",
      "roberta.encoder.layer.0.intermediate.dense.bias              (3072,)\n",
      "roberta.encoder.layer.0.output.dense.weight              (768, 3072)\n",
      "roberta.encoder.layer.0.output.dense.bias                     (768,)\n",
      "roberta.encoder.layer.0.output.LayerNorm.weight               (768,)\n",
      "roberta.encoder.layer.0.output.LayerNorm.bias                 (768,)\n",
      "\n",
      "==== Output Layer ====\n",
      "\n",
      "classifier.dense.weight                                   (768, 768)\n",
      "classifier.dense.bias                                         (768,)\n",
      "classifier.out_proj.weight                                  (2, 768)\n",
      "classifier.out_proj.bias                                        (2,)\n"
     ]
    }
   ],
   "source": [
    "# print the RoBERTa model's parameters\n",
    "\n",
    "print_model(roberta_pretrained_model)"
   ]
  },
  {
   "cell_type": "code",
   "execution_count": 72,
   "metadata": {},
   "outputs": [],
   "source": [
    "# new databunch with batch size, 8\n",
    "\n",
    "databunch_1 = TextClasDataBunch.from_df(Path(\".\"), train, valid, test,\n",
    "                  tokenizer=bert_fastai_tokenizer,\n",
    "                  vocab=bert_vocab,\n",
    "                  include_bos=False,\n",
    "                  include_eos=False,\n",
    "                  text_cols=\"comment\",\n",
    "                  label_cols='sentiment',\n",
    "                  bs=8,\n",
    "                  collate_fn=partial(pad_collate, pad_first=False, pad_idx=0),\n",
    "             )"
   ]
  },
  {
   "cell_type": "code",
   "execution_count": 73,
   "metadata": {},
   "outputs": [],
   "source": [
    "# define learner object for RoBERTa\n",
    "\n",
    "learn_1 = Learner(databunch_1,\n",
    "                roberta_pretrained_model,\n",
    "                loss_func=loss_func,\n",
    "                metrics=accuracy)"
   ]
  },
  {
   "cell_type": "markdown",
   "metadata": {},
   "source": [
    "### Train Learner #1 - learn - BERT model"
   ]
  },
  {
   "cell_type": "markdown",
   "metadata": {},
   "source": [
    "For the fine-tuning, from the authors' recommendations(Appendix A.3 of the BERT paper), choosing the following values :\n",
    "\n",
    "- Batch size: 32\n",
    "- Learning rate (Adam): 2e-5\n",
    "- Number of epochs: 4\n",
    "- max_sql_len: 256\n",
    "\n",
    "Fastai train strategy:\n",
    "\n",
    "Fit a model following the [1cycle policy](https://docs.fast.ai/train.html#fit_one_cycle)\n",
    "\n",
    "Finding Good Learning Rate and The One Cycle Policy [Reference](https://towardsdatascience.com/finding-good-learning-rate-and-the-one-cycle-policy-7159fe1db5d6)"
   ]
  },
  {
   "cell_type": "code",
   "execution_count": 69,
   "metadata": {},
   "outputs": [
    {
     "data": {
      "text/html": [],
      "text/plain": [
       "<IPython.core.display.HTML object>"
      ]
     },
     "metadata": {},
     "output_type": "display_data"
    },
    {
     "name": "stdout",
     "output_type": "stream",
     "text": [
      "LR Finder is complete, type {learner_name}.recorder.plot() to see the graph.\n"
     ]
    }
   ],
   "source": [
    "# the learning rate finder\n",
    "\n",
    "learn.lr_find()"
   ]
  },
  {
   "cell_type": "code",
   "execution_count": 70,
   "metadata": {},
   "outputs": [
    {
     "data": {
      "image/png": "[encoded data removed]",
      "text/plain": [
       "<Figure size 432x288 with 1 Axes>"
      ]
     },
     "metadata": {
      "needs_background": "light"
     },
     "output_type": "display_data"
    }
   ],
   "source": [
    "learn.recorder.plot()"
   ]
  },
  {
   "cell_type": "code",
   "execution_count": 74,
   "metadata": {},
   "outputs": [
    {
     "data": {
      "text/html": [
       "<table border=\"1\" class=\"dataframe\">\n",
       "  <thead>\n",
       "    <tr style=\"text-align: left;\">\n",
       "      <th>epoch</th>\n",
       "      <th>train_loss</th>\n",
       "      <th>valid_loss</th>\n",
       "      <th>accuracy</th>\n",
       "      <th>time</th>\n",
       "    </tr>\n",
       "  </thead>\n",
       "  <tbody>\n",
       "    <tr>\n",
       "      <td>0</td>\n",
       "      <td>0.606067</td>\n",
       "      <td>0.429434</td>\n",
       "      <td>0.825000</td>\n",
       "      <td>16:45</td>\n",
       "    </tr>\n",
       "    <tr>\n",
       "      <td>1</td>\n",
       "      <td>0.373766</td>\n",
       "      <td>0.268354</td>\n",
       "      <td>0.875000</td>\n",
       "      <td>16:40</td>\n",
       "    </tr>\n",
       "    <tr>\n",
       "      <td>2</td>\n",
       "      <td>0.244286</td>\n",
       "      <td>0.217554</td>\n",
       "      <td>0.925000</td>\n",
       "      <td>15:56</td>\n",
       "    </tr>\n",
       "    <tr>\n",
       "      <td>3</td>\n",
       "      <td>0.167072</td>\n",
       "      <td>0.220608</td>\n",
       "      <td>0.925000</td>\n",
       "      <td>16:08</td>\n",
       "    </tr>\n",
       "  </tbody>\n",
       "</table>"
      ],
      "text/plain": [
       "<IPython.core.display.HTML object>"
      ]
     },
     "metadata": {},
     "output_type": "display_data"
    }
   ],
   "source": [
    "# Fastai Learner object default optimizer is 'Adam', chose learning rate: 2e-5\n",
    "lr = 2e-5\n",
    "\n",
    "learn.fit_one_cycle(4, lr)"
   ]
  },
  {
   "cell_type": "code",
   "execution_count": 75,
   "metadata": {},
   "outputs": [],
   "source": [
    "learn.save('model_zh')"
   ]
  },
  {
   "cell_type": "code",
   "execution_count": null,
   "metadata": {},
   "outputs": [],
   "source": [
    "learn.load('model_zh')"
   ]
  },
  {
   "cell_type": "code",
   "execution_count": 77,
   "metadata": {},
   "outputs": [
    {
     "data": {
      "text/html": [
       "<table border=\"1\" class=\"dataframe\">\n",
       "  <thead>\n",
       "    <tr style=\"text-align: left;\">\n",
       "      <th>epoch</th>\n",
       "      <th>train_loss</th>\n",
       "      <th>valid_loss</th>\n",
       "      <th>accuracy</th>\n",
       "      <th>time</th>\n",
       "    </tr>\n",
       "  </thead>\n",
       "  <tbody>\n",
       "    <tr>\n",
       "      <td>0</td>\n",
       "      <td>0.145397</td>\n",
       "      <td>0.230978</td>\n",
       "      <td>0.895000</td>\n",
       "      <td>15:55</td>\n",
       "    </tr>\n",
       "  </tbody>\n",
       "</table>"
      ],
      "text/plain": [
       "<IPython.core.display.HTML object>"
      ]
     },
     "metadata": {},
     "output_type": "display_data"
    }
   ],
   "source": [
    "# unfreeze last 2 layer\n",
    "\n",
    "learn.freeze_to(-2)\n",
    "\n",
    "learn.fit_one_cycle(1, lr)"
   ]
  },
  {
   "cell_type": "code",
   "execution_count": 78,
   "metadata": {},
   "outputs": [],
   "source": [
    "learn.save('model_0')"
   ]
  },
  {
   "cell_type": "code",
   "execution_count": null,
   "metadata": {},
   "outputs": [],
   "source": [
    "learn.load('model_0')"
   ]
  },
  {
   "cell_type": "markdown",
   "metadata": {},
   "source": [
    "### Train Learner #2 - learn_1 - RoBERTa model\n",
    "\n",
    "[Ref](https://github.com/pytorch/fairseq/blob/master/examples/roberta/README.custom_classification.md)\n",
    "For the fine-tuning, choosing the following values:\n",
    "\n",
    "- Batch size: 8 - (MAX_SENTENCES)\n",
    "- Learning rate (Adam): 1e-5\n",
    "- Number of epochs: 10\n",
    "- max_sql_len: 256"
   ]
  },
  {
   "cell_type": "code",
   "execution_count": 80,
   "metadata": {},
   "outputs": [
    {
     "data": {
      "text/html": [],
      "text/plain": [
       "<IPython.core.display.HTML object>"
      ]
     },
     "metadata": {},
     "output_type": "display_data"
    },
    {
     "name": "stdout",
     "output_type": "stream",
     "text": [
      "LR Finder is complete, type {learner_name}.recorder.plot() to see the graph.\n"
     ]
    }
   ],
   "source": [
    "# the learning rate finder\n",
    "\n",
    "learn_1.lr_find()"
   ]
  },
  {
   "cell_type": "code",
   "execution_count": 81,
   "metadata": {},
   "outputs": [
    {
     "data": {
      "image/png": "[encoded data removed]",
      "text/plain": [
       "<Figure size 432x288 with 1 Axes>"
      ]
     },
     "metadata": {
      "needs_background": "light"
     },
     "output_type": "display_data"
    }
   ],
   "source": [
    "learn_1.recorder.plot()"
   ]
  },
  {
   "cell_type": "code",
   "execution_count": 82,
   "metadata": {},
   "outputs": [
    {
     "data": {
      "text/html": [
       "<table border=\"1\" class=\"dataframe\">\n",
       "  <thead>\n",
       "    <tr style=\"text-align: left;\">\n",
       "      <th>epoch</th>\n",
       "      <th>train_loss</th>\n",
       "      <th>valid_loss</th>\n",
       "      <th>accuracy</th>\n",
       "      <th>time</th>\n",
       "    </tr>\n",
       "  </thead>\n",
       "  <tbody>\n",
       "    <tr>\n",
       "      <td>0</td>\n",
       "      <td>0.683495</td>\n",
       "      <td>0.686389</td>\n",
       "      <td>0.560000</td>\n",
       "      <td>15:47</td>\n",
       "    </tr>\n",
       "    <tr>\n",
       "      <td>1</td>\n",
       "      <td>0.686334</td>\n",
       "      <td>0.726087</td>\n",
       "      <td>0.480000</td>\n",
       "      <td>15:43</td>\n",
       "    </tr>\n",
       "    <tr>\n",
       "      <td>2</td>\n",
       "      <td>0.630960</td>\n",
       "      <td>0.594314</td>\n",
       "      <td>0.700000</td>\n",
       "      <td>15:19</td>\n",
       "    </tr>\n",
       "    <tr>\n",
       "      <td>3</td>\n",
       "      <td>0.494644</td>\n",
       "      <td>0.608039</td>\n",
       "      <td>0.675000</td>\n",
       "      <td>15:34</td>\n",
       "    </tr>\n",
       "    <tr>\n",
       "      <td>4</td>\n",
       "      <td>0.386542</td>\n",
       "      <td>0.363813</td>\n",
       "      <td>0.835000</td>\n",
       "      <td>15:38</td>\n",
       "    </tr>\n",
       "    <tr>\n",
       "      <td>5</td>\n",
       "      <td>0.326270</td>\n",
       "      <td>0.529548</td>\n",
       "      <td>0.760000</td>\n",
       "      <td>15:39</td>\n",
       "    </tr>\n",
       "    <tr>\n",
       "      <td>6</td>\n",
       "      <td>0.273931</td>\n",
       "      <td>0.404787</td>\n",
       "      <td>0.865000</td>\n",
       "      <td>15:50</td>\n",
       "    </tr>\n",
       "    <tr>\n",
       "      <td>7</td>\n",
       "      <td>0.291830</td>\n",
       "      <td>0.365177</td>\n",
       "      <td>0.870000</td>\n",
       "      <td>15:39</td>\n",
       "    </tr>\n",
       "    <tr>\n",
       "      <td>8</td>\n",
       "      <td>0.245536</td>\n",
       "      <td>0.387809</td>\n",
       "      <td>0.870000</td>\n",
       "      <td>16:30</td>\n",
       "    </tr>\n",
       "    <tr>\n",
       "      <td>9</td>\n",
       "      <td>0.213473</td>\n",
       "      <td>0.362551</td>\n",
       "      <td>0.855000</td>\n",
       "      <td>15:42</td>\n",
       "    </tr>\n",
       "  </tbody>\n",
       "</table>"
      ],
      "text/plain": [
       "<IPython.core.display.HTML object>"
      ]
     },
     "metadata": {},
     "output_type": "display_data"
    }
   ],
   "source": [
    "# Fastai Learner object default optimizer is 'Adam'\n",
    "lr = 1e-5\n",
    "\n",
    "learn_1.fit_one_cycle(10, lr)"
   ]
  },
  {
   "cell_type": "code",
   "execution_count": 83,
   "metadata": {},
   "outputs": [],
   "source": [
    "learn_1.save('model_1')"
   ]
  },
  {
   "cell_type": "code",
   "execution_count": null,
   "metadata": {},
   "outputs": [],
   "source": [
    "learn_1.load('model_1')"
   ]
  },
  {
   "cell_type": "code",
   "execution_count": 85,
   "metadata": {},
   "outputs": [
    {
     "data": {
      "text/html": [
       "<table border=\"1\" class=\"dataframe\">\n",
       "  <thead>\n",
       "    <tr style=\"text-align: left;\">\n",
       "      <th>epoch</th>\n",
       "      <th>train_loss</th>\n",
       "      <th>valid_loss</th>\n",
       "      <th>accuracy</th>\n",
       "      <th>time</th>\n",
       "    </tr>\n",
       "  </thead>\n",
       "  <tbody>\n",
       "    <tr>\n",
       "      <td>0</td>\n",
       "      <td>0.286655</td>\n",
       "      <td>0.362558</td>\n",
       "      <td>0.860000</td>\n",
       "      <td>14:46</td>\n",
       "    </tr>\n",
       "  </tbody>\n",
       "</table>"
      ],
      "text/plain": [
       "<IPython.core.display.HTML object>"
      ]
     },
     "metadata": {},
     "output_type": "display_data"
    }
   ],
   "source": [
    "# unfreeze last 2 layer\n",
    "\n",
    "learn_1.freeze_to(-2)\n",
    "\n",
    "learn_1.fit_one_cycle(1, lr)"
   ]
  },
  {
   "cell_type": "markdown",
   "metadata": {},
   "source": [
    "### Model Test"
   ]
  },
  {
   "cell_type": "code",
   "execution_count": 86,
   "metadata": {},
   "outputs": [],
   "source": [
    "# helper function for test report\n",
    "\n",
    "def h_prediction(n, model):\n",
    "    preds = []\n",
    "    for loc in range(n):\n",
    "        preds.append(int(model.predict(test.iloc[loc]['comment'])[1]))\n",
    "    return preds"
   ]
  },
  {
   "cell_type": "code",
   "execution_count": 87,
   "metadata": {},
   "outputs": [
    {
     "name": "stdout",
     "output_type": "stream",
     "text": [
      "              precision    recall  f1-score   support\n",
      "\n",
      "           0       0.90      0.87      0.89       103\n",
      "           1       0.87      0.90      0.88        97\n",
      "\n",
      "    accuracy                           0.89       200\n",
      "   macro avg       0.89      0.89      0.88       200\n",
      "weighted avg       0.89      0.89      0.89       200\n",
      "\n",
      "confusion matrix: \n",
      " [[90 13]\n",
      " [10 87]]\n"
     ]
    }
   ],
   "source": [
    "# after training, make predictions on test data - BERT model\n",
    "\n",
    "preds = h_prediction(len(test), learn)\n",
    "\n",
    "print(classification_report(test.sentiment, preds))\n",
    "print(\"confusion matrix: \\n\", confusion_matrix(test.sentiment, preds))"
   ]
  },
  {
   "cell_type": "code",
   "execution_count": 88,
   "metadata": {},
   "outputs": [
    {
     "name": "stdout",
     "output_type": "stream",
     "text": [
      "              precision    recall  f1-score   support\n",
      "\n",
      "           0       0.85      0.91      0.88       103\n",
      "           1       0.90      0.82      0.86        97\n",
      "\n",
      "    accuracy                           0.87       200\n",
      "   macro avg       0.87      0.87      0.87       200\n",
      "weighted avg       0.87      0.87      0.87       200\n",
      "\n",
      "confusion matrix: \n",
      " [[94  9]\n",
      " [17 80]]\n"
     ]
    }
   ],
   "source": [
    "# after training, make predictions on test data - RoBERTa model\n",
    "\n",
    "preds_1 = h_prediction(len(test), learn_1)\n",
    "\n",
    "print(classification_report(test.sentiment, preds_1))\n",
    "print(\"confusion matrix: \\n\", confusion_matrix(test.sentiment, preds_1))"
   ]
  },
  {
   "cell_type": "code",
   "execution_count": 89,
   "metadata": {},
   "outputs": [
    {
     "name": "stdout",
     "output_type": "stream",
     "text": [
      "BERT model:    (Category 0, tensor(0), tensor([0.9762, 0.0238]))\n",
      "RoBERTa model: (Category 0, tensor(0), tensor([0.8662, 0.1338]))\n"
     ]
    }
   ],
   "source": [
    "review_1 = \"这家的环境差，菜也不好吃。\"\n",
    "print(\"BERT model:   \", learn.predict(review_1))\n",
    "print(\"RoBERTa model:\", learn_1.predict(review_1))"
   ]
  },
  {
   "cell_type": "code",
   "execution_count": 90,
   "metadata": {},
   "outputs": [
    {
     "name": "stdout",
     "output_type": "stream",
     "text": [
      "BERT model:    (Category 1, tensor(1), tensor([0.0176, 0.9824]))\n",
      "RoBERTa model: (Category 1, tensor(1), tensor([0.0356, 0.9644]))\n"
     ]
    }
   ],
   "source": [
    "review_2 = \"这家店的味道不错。\"\n",
    "print(\"BERT model:   \", learn.predict(review_2))\n",
    "print(\"RoBERTa model:\", learn_1.predict(review_2))"
   ]
  },
  {
   "cell_type": "code",
   "execution_count": 91,
   "metadata": {},
   "outputs": [
    {
     "name": "stdout",
     "output_type": "stream",
     "text": [
      "BERT model:    (Category 0, tensor(0), tensor([0.5832, 0.4168]))\n",
      "RoBERTa model: (Category 0, tensor(0), tensor([0.8756, 0.1244]))\n"
     ]
    }
   ],
   "source": [
    "review_3 = \"这家店的环境还可以，但是菜味道不行。\"\n",
    "print(\"BERT model:   \", learn.predict(review_3))\n",
    "print(\"RoBERTa model:\", learn_1.predict(review_3))"
   ]
  },
  {
   "cell_type": "code",
   "execution_count": 92,
   "metadata": {},
   "outputs": [
    {
     "name": "stdout",
     "output_type": "stream",
     "text": [
      "BERT model:    (Category 0, tensor(0), tensor([0.9525, 0.0475]))\n",
      "RoBERTa model: (Category 0, tensor(0), tensor([0.9925, 0.0075]))\n"
     ]
    }
   ],
   "source": [
    "review_4 = \"这家的环境不差，但是菜不怎么好吃。\"\n",
    "print(\"BERT model:   \", learn.predict(review_4))\n",
    "print(\"RoBERTa model:\", learn_1.predict(review_4))"
   ]
  },
  {
   "cell_type": "code",
   "execution_count": null,
   "metadata": {},
   "outputs": [],
   "source": [
    "# first embedding layer weight of Bert \n",
    "\n",
    "bert_emb = bert_pretrained_model.bert.embeddings.word_embeddings.weight.detach().numpy()"
   ]
  },
  {
   "cell_type": "code",
   "execution_count": null,
   "metadata": {},
   "outputs": [],
   "source": [
    "# visualize some samples in input space\n",
    "\n",
    "labels = ['不','错','可','吃','味','道','好','没','有','的','菜','说','难','推','荐', \n",
    "             '咸','甜','太','级','差','强','快','意','义','一','二','般','极','慢']\n",
    "\n",
    "word2int = [bert_tokenizer.vocab.get(v) for v in labels]\n",
    "\n",
    "tokens = [emb_lstm[i] for i in word2int]\n",
    "\n",
    "tsne_model = TSNE(perplexity=15, n_components=2, init='pca', n_iter=1500, random_state=23)\n",
    "new_values = tsne_model.fit_transform(tokens)\n",
    "\n",
    "x = []\n",
    "y = []\n",
    "for value in new_values:\n",
    "    x.append(value[0])\n",
    "    y.append(value[1])\n",
    "    \n",
    "plt.figure(figsize=(8, 8)) \n",
    "for i in range(len(x)):\n",
    "    plt.scatter(x[i],y[i])\n",
    "    plt.annotate(labels[i],\n",
    "                 xy=(x[i], y[i]),\n",
    "                 xytext=(5, 2),\n",
    "                 textcoords='offset points',\n",
    "                 ha='right',\n",
    "                 va='bottom')\n",
    "plt.show()"
   ]
  },
  {
   "cell_type": "code",
   "execution_count": null,
   "metadata": {},
   "outputs": [],
   "source": []
  }
 ],
 "metadata": {
  "kernelspec": {
   "display_name": "Python 3",
   "language": "python",
   "name": "python3"
  },
  "language_info": {
   "codemirror_mode": {
    "name": "ipython",
    "version": 3
   },
   "file_extension": ".py",
   "mimetype": "text/x-python",
   "name": "python",
   "nbconvert_exporter": "python",
   "pygments_lexer": "ipython3",
   "version": "3.6.7"
  }
 },
 "nbformat": 4,
 "nbformat_minor": 2
}
